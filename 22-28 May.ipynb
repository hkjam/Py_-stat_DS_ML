{
 "cells": [
  {
   "cell_type": "code",
   "execution_count": 2,
   "id": "64ee1ff6",
   "metadata": {},
   "outputs": [
    {
     "data": {
      "text/plain": [
       "10"
      ]
     },
     "execution_count": 2,
     "metadata": {},
     "output_type": "execute_result"
    }
   ],
   "source": [
    "5+5"
   ]
  },
  {
   "cell_type": "code",
   "execution_count": 4,
   "id": "19257f22",
   "metadata": {},
   "outputs": [
    {
     "data": {
      "text/plain": [
       "1"
      ]
     },
     "execution_count": 4,
     "metadata": {},
     "output_type": "execute_result"
    }
   ],
   "source": [
    "3%2"
   ]
  },
  {
   "cell_type": "code",
   "execution_count": 5,
   "id": "d53c73bc",
   "metadata": {},
   "outputs": [
    {
     "data": {
      "text/plain": [
       "1.6666666666666667"
      ]
     },
     "execution_count": 5,
     "metadata": {},
     "output_type": "execute_result"
    }
   ],
   "source": [
    "5/3"
   ]
  },
  {
   "cell_type": "code",
   "execution_count": null,
   "id": "c00d9f8d",
   "metadata": {},
   "outputs": [],
   "source": []
  },
  {
   "cell_type": "code",
   "execution_count": 20,
   "id": "3dfdae37",
   "metadata": {},
   "outputs": [
    {
     "data": {
      "text/plain": [
       "4"
      ]
     },
     "execution_count": 20,
     "metadata": {},
     "output_type": "execute_result"
    }
   ],
   "source": [
    "round(3.6)"
   ]
  },
  {
   "cell_type": "code",
   "execution_count": 21,
   "id": "93f20b80",
   "metadata": {},
   "outputs": [
    {
     "data": {
      "text/plain": [
       "4"
      ]
     },
     "execution_count": 21,
     "metadata": {},
     "output_type": "execute_result"
    }
   ],
   "source": [
    "round(4.4)"
   ]
  },
  {
   "cell_type": "code",
   "execution_count": 1,
   "id": "63753ff1",
   "metadata": {},
   "outputs": [
    {
     "name": "stdout",
     "output_type": "stream",
     "text": [
      "40\n"
     ]
    }
   ],
   "source": [
    "a=20\n",
    "a=a+20\n",
    "print(a)"
   ]
  },
  {
   "cell_type": "code",
   "execution_count": 2,
   "id": "4b9858df",
   "metadata": {},
   "outputs": [
    {
     "data": {
      "text/plain": [
       "1"
      ]
     },
     "execution_count": 2,
     "metadata": {},
     "output_type": "execute_result"
    }
   ],
   "source": [
    "5//3"
   ]
  },
  {
   "cell_type": "code",
   "execution_count": 12,
   "id": "3cfdaa01",
   "metadata": {},
   "outputs": [
    {
     "data": {
      "text/plain": [
       "float"
      ]
     },
     "execution_count": 12,
     "metadata": {},
     "output_type": "execute_result"
    }
   ],
   "source": [
    "type(1.66)"
   ]
  },
  {
   "cell_type": "code",
   "execution_count": 2,
   "id": "c8dd76a2",
   "metadata": {},
   "outputs": [
    {
     "name": "stdout",
     "output_type": "stream",
     "text": [
      "5\n"
     ]
    }
   ],
   "source": [
    "#indentifier\n",
    "name_12= 5\n",
    "print(name_12)"
   ]
  },
  {
   "cell_type": "code",
   "execution_count": 7,
   "id": "d802308c",
   "metadata": {},
   "outputs": [
    {
     "name": "stdout",
     "output_type": "stream",
     "text": [
      "20\n"
     ]
    }
   ],
   "source": [
    "_name_12=20\n",
    "print(_name_12)"
   ]
  },
  {
   "cell_type": "code",
   "execution_count": 10,
   "id": "ba7cc92e",
   "metadata": {},
   "outputs": [],
   "source": [
    "ankit12=10\n"
   ]
  },
  {
   "cell_type": "code",
   "execution_count": 13,
   "id": "38914900",
   "metadata": {},
   "outputs": [
    {
     "data": {
      "text/plain": [
       "10"
      ]
     },
     "execution_count": 13,
     "metadata": {},
     "output_type": "execute_result"
    }
   ],
   "source": [
    "ankit12"
   ]
  },
  {
   "cell_type": "code",
   "execution_count": 14,
   "id": "a2b90cd1",
   "metadata": {},
   "outputs": [
    {
     "data": {
      "text/plain": [
       "False"
      ]
     },
     "execution_count": 14,
     "metadata": {},
     "output_type": "execute_result"
    }
   ],
   "source": [
    "\"b\"==\"B\""
   ]
  },
  {
   "cell_type": "code",
   "execution_count": 17,
   "id": "9495a4ed",
   "metadata": {},
   "outputs": [
    {
     "name": "stdout",
     "output_type": "stream",
     "text": [
      "12\n",
      "35\n",
      "201\n",
      "2.3333333333333335\n",
      "1\n",
      "64\n",
      "2\n"
     ]
    }
   ],
   "source": [
    "#arithmetic operators\n",
    "a=5+7\n",
    "print(a)\n",
    "a=90-55\n",
    "print(a)\n",
    "a=67*3\n",
    "print(a)\n",
    "a=7/3\n",
    "print(a)\n",
    "a=7%3\n",
    "print(a)\n",
    "a=4**3\n",
    "print(a)\n",
    "a=8//3\n",
    "print(a)"
   ]
  },
  {
   "cell_type": "code",
   "execution_count": 35,
   "id": "a5254dcd",
   "metadata": {},
   "outputs": [],
   "source": [
    "a,b,c=10,3,5"
   ]
  },
  {
   "cell_type": "code",
   "execution_count": 38,
   "id": "298ffa9e",
   "metadata": {
    "scrolled": true
   },
   "outputs": [
    {
     "name": "stdout",
     "output_type": "stream",
     "text": [
      "3\n",
      "5\n",
      "10\n"
     ]
    }
   ],
   "source": [
    "print(b)\n",
    "print(c)\n",
    "print(a)"
   ]
  },
  {
   "cell_type": "code",
   "execution_count": 43,
   "id": "7d6aba32",
   "metadata": {},
   "outputs": [
    {
     "name": "stdout",
     "output_type": "stream",
     "text": [
      "20\n",
      "40\n",
      "20\n",
      "40\n",
      "10.0\n",
      "1.0\n",
      "2.0\n"
     ]
    }
   ],
   "source": [
    "#assignment operators\n",
    "a=20 \n",
    "print(a)\n",
    "a+=20 # a=a+20\n",
    "print(a)\n",
    "a-=20 # a=a-20\n",
    "print(a)\n",
    "a*=2 #a=a*2\n",
    "print(a)\n",
    "a/=4 #a=a/4\n",
    "print(a)\n",
    "a%=3 #a=a%3\n",
    "print(a)\n",
    "a//=0.5\n",
    "print(a)"
   ]
  },
  {
   "cell_type": "code",
   "execution_count": 1,
   "id": "3802609c",
   "metadata": {},
   "outputs": [
    {
     "name": "stdout",
     "output_type": "stream",
     "text": [
      "20\n",
      "20\n",
      "23\n",
      "18\n",
      "1152\n",
      "18\n"
     ]
    }
   ],
   "source": [
    "## questions\n",
    "x=20\n",
    "print(x)\n",
    "x &= 20 #x=x&20\n",
    "print(x)\n",
    "x|=3 #x=x|3\n",
    "print(x)\n",
    "x^=5 #x=x^5\n",
    "print(x)\n",
    "x<<=6 #x=x<<6\n",
    "print(x)\n",
    "x>>=6 #x=x>>6\n",
    "print(x)"
   ]
  },
  {
   "cell_type": "code",
   "execution_count": 1,
   "id": "5fef8eae",
   "metadata": {},
   "outputs": [
    {
     "data": {
      "text/plain": [
       "4"
      ]
     },
     "execution_count": 1,
     "metadata": {},
     "output_type": "execute_result"
    }
   ],
   "source": [
    "import math\n",
    "math.floor(4.56)"
   ]
  },
  {
   "cell_type": "code",
   "execution_count": 2,
   "id": "bbec0121",
   "metadata": {},
   "outputs": [
    {
     "data": {
      "text/plain": [
       "5"
      ]
     },
     "execution_count": 2,
     "metadata": {},
     "output_type": "execute_result"
    }
   ],
   "source": [
    "math.ceil(4.2)"
   ]
  },
  {
   "cell_type": "code",
   "execution_count": 6,
   "id": "a856ef73",
   "metadata": {},
   "outputs": [
    {
     "name": "stdout",
     "output_type": "stream",
     "text": [
      "2.0\n",
      "5.0\n"
     ]
    }
   ],
   "source": [
    "#complex\n",
    "x=2+5j\n",
    "print(x.real)\n",
    "print(x.imag)"
   ]
  },
  {
   "cell_type": "code",
   "execution_count": 10,
   "id": "1756d55b",
   "metadata": {},
   "outputs": [
    {
     "name": "stdout",
     "output_type": "stream",
     "text": [
      "10\n",
      "1\n",
      "2\n",
      "3\n",
      "4\n"
     ]
    }
   ],
   "source": [
    "## Number\n",
    "#single assignment\n",
    "a=10\n",
    "print(a)\n",
    "#multiple assignment\n",
    "a,b,c,d=1,2,3,4\n",
    "print(a)\n",
    "print(b)\n",
    "print(c)\n",
    "print(d)\n"
   ]
  },
  {
   "cell_type": "code",
   "execution_count": 9,
   "id": "f1089929",
   "metadata": {},
   "outputs": [
    {
     "name": "stdout",
     "output_type": "stream",
     "text": [
      "True\n",
      "True\n",
      "False\n",
      "True\n",
      "False\n",
      "False\n"
     ]
    }
   ],
   "source": [
    "##comparision operator\n",
    "print(10==10)\n",
    "print(10!=11)\n",
    "print(10>13)\n",
    "print(10<12)\n",
    "print(10>=13)\n",
    "print(10<=1)"
   ]
  },
  {
   "cell_type": "code",
   "execution_count": 11,
   "id": "ac29d249",
   "metadata": {},
   "outputs": [
    {
     "data": {
      "text/plain": [
       "False"
      ]
     },
     "execution_count": 11,
     "metadata": {},
     "output_type": "execute_result"
    }
   ],
   "source": [
    "## logical operators\n",
    "(3>5) and (4<6)"
   ]
  },
  {
   "cell_type": "code",
   "execution_count": 12,
   "id": "dd4afc20",
   "metadata": {},
   "outputs": [
    {
     "data": {
      "text/plain": [
       "True"
      ]
     },
     "execution_count": 12,
     "metadata": {},
     "output_type": "execute_result"
    }
   ],
   "source": [
    "(3>5) or (5>3)"
   ]
  },
  {
   "cell_type": "code",
   "execution_count": 14,
   "id": "9c55968e",
   "metadata": {},
   "outputs": [
    {
     "data": {
      "text/plain": [
       "True"
      ]
     },
     "execution_count": 14,
     "metadata": {},
     "output_type": "execute_result"
    }
   ],
   "source": [
    "not(4>5)"
   ]
  },
  {
   "cell_type": "code",
   "execution_count": 17,
   "id": "41b4f57c",
   "metadata": {},
   "outputs": [
    {
     "data": {
      "text/plain": [
       "True"
      ]
     },
     "execution_count": 17,
     "metadata": {},
     "output_type": "execute_result"
    }
   ],
   "source": [
    "not(4>6)and(2<6)"
   ]
  },
  {
   "cell_type": "code",
   "execution_count": 30,
   "id": "08851662",
   "metadata": {},
   "outputs": [
    {
     "name": "stdout",
     "output_type": "stream",
     "text": [
      "737322232400\n",
      "737322232496\n",
      "False\n",
      "True\n"
     ]
    }
   ],
   "source": [
    "##identity operators-comapre 2 objects  with respect to their memory location\n",
    "a=10\n",
    "b=13\n",
    "print(id(a))##memory location of a\n",
    "print(id(b))##memory location of b\n",
    "print(a is b)\n",
    "print(a is not b)"
   ]
  },
  {
   "cell_type": "code",
   "execution_count": 33,
   "id": "8703fe1c",
   "metadata": {},
   "outputs": [
    {
     "name": "stdout",
     "output_type": "stream",
     "text": [
      "True\n",
      "False\n"
     ]
    }
   ],
   "source": [
    "##membership operator-check if a sequence is present in a object\n",
    "a=\"ankit\"\n",
    "b=\"ank\"\n",
    "print(b in a)\n",
    "print(b not in a )"
   ]
  },
  {
   "cell_type": "code",
   "execution_count": null,
   "id": "b287afa7",
   "metadata": {},
   "outputs": [],
   "source": []
  },
  {
   "cell_type": "code",
   "execution_count": null,
   "id": "a8c2daeb",
   "metadata": {},
   "outputs": [],
   "source": []
  },
  {
   "cell_type": "code",
   "execution_count": null,
   "id": "494d3647",
   "metadata": {},
   "outputs": [],
   "source": []
  },
  {
   "cell_type": "code",
   "execution_count": null,
   "id": "b9346fa5",
   "metadata": {},
   "outputs": [],
   "source": [
    "#indexing (concept)\n",
    "#positive \n",
    "#negitive"
   ]
  },
  {
   "cell_type": "code",
   "execution_count": 11,
   "id": "b9c3821a",
   "metadata": {},
   "outputs": [
    {
     "name": "stdout",
     "output_type": "stream",
     "text": [
      "HAPPY BIRTHDAY\n"
     ]
    }
   ],
   "source": [
    "##string \n",
    "a=\"HAPPY BIRTHDAY\"\n",
    "print(a)"
   ]
  },
  {
   "cell_type": "code",
   "execution_count": 12,
   "id": "2cc1f87f",
   "metadata": {},
   "outputs": [
    {
     "data": {
      "text/plain": [
       "'BIRTH'"
      ]
     },
     "execution_count": 12,
     "metadata": {},
     "output_type": "execute_result"
    }
   ],
   "source": [
    "#birth by positive indexing\n",
    "a[6:11]"
   ]
  },
  {
   "cell_type": "code",
   "execution_count": 13,
   "id": "672b7dea",
   "metadata": {},
   "outputs": [
    {
     "data": {
      "text/plain": [
       "'BIRTH'"
      ]
     },
     "execution_count": 13,
     "metadata": {},
     "output_type": "execute_result"
    }
   ],
   "source": [
    "#birth by negitive indexing\n",
    "a[-8:-3]"
   ]
  },
  {
   "cell_type": "code",
   "execution_count": 14,
   "id": "bccf17d0",
   "metadata": {},
   "outputs": [
    {
     "data": {
      "text/plain": [
       "'APPY'"
      ]
     },
     "execution_count": 14,
     "metadata": {},
     "output_type": "execute_result"
    }
   ],
   "source": [
    "#appyby positive indexing\n",
    "a[1:5]"
   ]
  },
  {
   "cell_type": "code",
   "execution_count": 2,
   "id": "a3928813",
   "metadata": {},
   "outputs": [
    {
     "ename": "NameError",
     "evalue": "name 'a' is not defined",
     "output_type": "error",
     "traceback": [
      "\u001b[1;31m---------------------------------------------------------------------------\u001b[0m",
      "\u001b[1;31mNameError\u001b[0m                                 Traceback (most recent call last)",
      "Input \u001b[1;32mIn [2]\u001b[0m, in \u001b[0;36m<cell line: 3>\u001b[1;34m()\u001b[0m\n\u001b[0;32m      1\u001b[0m \u001b[38;5;66;03m#mixed indexing\u001b[39;00m\n\u001b[0;32m      2\u001b[0m \u001b[38;5;66;03m#get birth \u001b[39;00m\n\u001b[1;32m----> 3\u001b[0m \u001b[43ma\u001b[49m[\u001b[38;5;241m6\u001b[39m:\u001b[38;5;241m-\u001b[39m\u001b[38;5;241m4\u001b[39m]\n",
      "\u001b[1;31mNameError\u001b[0m: name 'a' is not defined"
     ]
    }
   ],
   "source": [
    "#mixed indexing\n",
    "#get birth \n",
    "a[6:-4]"
   ]
  },
  {
   "cell_type": "code",
   "execution_count": 1,
   "id": "37ba36da",
   "metadata": {},
   "outputs": [
    {
     "name": "stdout",
     "output_type": "stream",
     "text": [
      "[]\n"
     ]
    }
   ],
   "source": [
    "##list\n",
    "##create a empty list\n",
    "ls=[]\n",
    "print(ls)"
   ]
  },
  {
   "cell_type": "code",
   "execution_count": 17,
   "id": "9adf4c5f",
   "metadata": {},
   "outputs": [
    {
     "data": {
      "text/plain": [
       "list"
      ]
     },
     "execution_count": 17,
     "metadata": {},
     "output_type": "execute_result"
    }
   ],
   "source": [
    "type(ls)"
   ]
  },
  {
   "cell_type": "code",
   "execution_count": 23,
   "id": "d26bea63",
   "metadata": {},
   "outputs": [
    {
     "data": {
      "text/plain": [
       "[1, 2, 3, 4, 5, 6, 7, 8, 9, 10]"
      ]
     },
     "execution_count": 23,
     "metadata": {},
     "output_type": "execute_result"
    }
   ],
   "source": [
    "ls=[1,2,3,4,5,6,7,8,9,10]\n",
    "ls"
   ]
  },
  {
   "cell_type": "code",
   "execution_count": 50,
   "id": "61513068",
   "metadata": {},
   "outputs": [
    {
     "name": "stdout",
     "output_type": "stream",
     "text": [
      "['A', 'B', 'C', 'D', 'E', 'ankit']\n"
     ]
    }
   ],
   "source": [
    "ls=['A','B','C','D','E','fairytale']\n",
    "ls\n",
    "ls[5] #\n",
    "ls[5][5:] #tale\n",
    "ls[5][5:9] #tale\n",
    "ls[5][1:4]\n",
    "ls[5]= 'ankit'\n",
    "print(ls)"
   ]
  },
  {
   "cell_type": "code",
   "execution_count": 1,
   "id": "7d2c5c13",
   "metadata": {},
   "outputs": [
    {
     "name": "stdout",
     "output_type": "stream",
     "text": [
      "SANFRANCISCO\n",
      "\n"
     ]
    },
    {
     "ename": "TypeError",
     "evalue": "'str' object does not support item assignment",
     "output_type": "error",
     "traceback": [
      "\u001b[1;31m---------------------------------------------------------------------------\u001b[0m",
      "\u001b[1;31mTypeError\u001b[0m                                 Traceback (most recent call last)",
      "Input \u001b[1;32mIn [1]\u001b[0m, in \u001b[0;36m<cell line: 5>\u001b[1;34m()\u001b[0m\n\u001b[0;32m      3\u001b[0m \u001b[38;5;28mprint\u001b[39m(ls)\n\u001b[0;32m      4\u001b[0m \u001b[38;5;28mprint\u001b[39m(ls[\u001b[38;5;241m0\u001b[39m][\u001b[38;5;241m7\u001b[39m:\u001b[38;5;241m12\u001b[39m])\u001b[38;5;66;03m#cisco (we can not change any thing in sanfrancisco)\u001b[39;00m\n\u001b[1;32m----> 5\u001b[0m ls[\u001b[38;5;241m0\u001b[39m]\u001b[38;5;241m=\u001b[39m \u001b[38;5;124m\"\u001b[39m\u001b[38;5;124mank\u001b[39m\u001b[38;5;124m\"\u001b[39m\n\u001b[0;32m      6\u001b[0m \u001b[38;5;28mprint\u001b[39m(ls)\n",
      "\u001b[1;31mTypeError\u001b[0m: 'str' object does not support item assignment"
     ]
    }
   ],
   "source": [
    "ls=[\"SANFRANCISCO\"]\n",
    "ls[0]\n",
    "print(ls)\n",
    "print(ls[0][7:12])#cisco (we can not change any thing in sanfrancisco)\n",
    "ls[0]= \"ank\"\n",
    "print(ls)\n"
   ]
  },
  {
   "cell_type": "code",
   "execution_count": 51,
   "id": "60d22297",
   "metadata": {},
   "outputs": [
    {
     "ename": "TypeError",
     "evalue": "'tuple' object does not support item assignment",
     "output_type": "error",
     "traceback": [
      "\u001b[1;31m---------------------------------------------------------------------------\u001b[0m",
      "\u001b[1;31mTypeError\u001b[0m                                 Traceback (most recent call last)",
      "Input \u001b[1;32mIn [51]\u001b[0m, in \u001b[0;36m<cell line: 5>\u001b[1;34m()\u001b[0m\n\u001b[0;32m      3\u001b[0m \u001b[38;5;28mtype\u001b[39m(tu)\n\u001b[0;32m      4\u001b[0m \u001b[38;5;66;03m# not mutable\u001b[39;00m\n\u001b[1;32m----> 5\u001b[0m tu[\u001b[38;5;241m3\u001b[39m]\u001b[38;5;241m=\u001b[39m\u001b[38;5;241m6\u001b[39m\n\u001b[0;32m      6\u001b[0m \u001b[38;5;28mprint\u001b[39m(tu)\n",
      "\u001b[1;31mTypeError\u001b[0m: 'tuple' object does not support item assignment"
     ]
    }
   ],
   "source": [
    "##Tuple\n",
    "tu=(1,2,3,4)\n",
    "type(tu)\n",
    "#Immutable(replacement)\n",
    "tu[3]=6\n",
    "print(tu)"
   ]
  },
  {
   "cell_type": "code",
   "execution_count": 52,
   "id": "091c91e6",
   "metadata": {},
   "outputs": [
    {
     "ename": "TypeError",
     "evalue": "'set' object does not support item assignment",
     "output_type": "error",
     "traceback": [
      "\u001b[1;31m---------------------------------------------------------------------------\u001b[0m",
      "\u001b[1;31mTypeError\u001b[0m                                 Traceback (most recent call last)",
      "Input \u001b[1;32mIn [52]\u001b[0m, in \u001b[0;36m<cell line: 5>\u001b[1;34m()\u001b[0m\n\u001b[0;32m      3\u001b[0m \u001b[38;5;28mtype\u001b[39m(st)\n\u001b[0;32m      4\u001b[0m \u001b[38;5;66;03m## mutable concept\u001b[39;00m\n\u001b[1;32m----> 5\u001b[0m st[\u001b[38;5;241m4\u001b[39m]\u001b[38;5;241m=\u001b[39m\u001b[38;5;241m78\u001b[39m\n\u001b[0;32m      6\u001b[0m \u001b[38;5;28mprint\u001b[39m(st)\n",
      "\u001b[1;31mTypeError\u001b[0m: 'set' object does not support item assignment"
     ]
    }
   ],
   "source": [
    "## set\n",
    "st={1,2,3,4,5}\n",
    "type(st)\n",
    "## mutable concept\n",
    "st[4]=78\n",
    "print(st)"
   ]
  },
  {
   "cell_type": "code",
   "execution_count": 44,
   "id": "99a379b7",
   "metadata": {},
   "outputs": [
    {
     "data": {
      "text/plain": [
       "{'a', 'b', 'c'}"
      ]
     },
     "execution_count": 44,
     "metadata": {},
     "output_type": "execute_result"
    }
   ],
   "source": [
    "##mutability of set\n",
    "#uniqueness i.e no duplicate\n",
    "st= {'a','b','c','c'}\n",
    "st"
   ]
  },
  {
   "cell_type": "code",
   "execution_count": 55,
   "id": "14485336",
   "metadata": {},
   "outputs": [
    {
     "name": "stdout",
     "output_type": "stream",
     "text": [
      "{'b', 2, 3, 1, 'a', 'c'}\n",
      "{'ankit', 'b', 2, 3, 1, 'a', 'c'}\n",
      "{'ankit', 'b', 2, 3, 1, 'a', 6, 'c'}\n",
      "{'ankit', 'b', 2, 3, 1, 'a', 6}\n",
      "{'ankit', 'b', 2, 3, 1, 'a'}\n"
     ]
    }
   ],
   "source": [
    "##adding elements\n",
    "st={'a','b','c',1,2,3}\n",
    "print(st)\n",
    "st.add(\"ankit\")\n",
    "print(st)\n",
    "st.add(6)\n",
    "print(st)\n",
    "\n",
    "##remove element from set\n",
    "st.remove('c')\n",
    "print(st)\n",
    "st.remove(6)\n",
    "print(st)"
   ]
  },
  {
   "cell_type": "code",
   "execution_count": 52,
   "id": "5eb750bd",
   "metadata": {},
   "outputs": [
    {
     "name": "stdout",
     "output_type": "stream",
     "text": [
      "<class 'set'>\n",
      "<class 'frozenset'>\n"
     ]
    }
   ],
   "source": [
    "## Frozen set\n",
    "ls={1,2,3,4,5}\n",
    "print(type(ls))\n",
    "\n",
    "stt=frozenset(ls) ## frezing all elements of the set\n",
    "print(type(stt))"
   ]
  },
  {
   "cell_type": "code",
   "execution_count": 56,
   "id": "5eef6d8d",
   "metadata": {},
   "outputs": [
    {
     "ename": "AttributeError",
     "evalue": "'frozenset' object has no attribute 'add'",
     "output_type": "error",
     "traceback": [
      "\u001b[1;31m---------------------------------------------------------------------------\u001b[0m",
      "\u001b[1;31mAttributeError\u001b[0m                            Traceback (most recent call last)",
      "Input \u001b[1;32mIn [56]\u001b[0m, in \u001b[0;36m<cell line: 2>\u001b[1;34m()\u001b[0m\n\u001b[0;32m      1\u001b[0m \u001b[38;5;66;03m##adding elements to frozen set\u001b[39;00m\n\u001b[1;32m----> 2\u001b[0m \u001b[43mstt\u001b[49m\u001b[38;5;241;43m.\u001b[39;49m\u001b[43madd\u001b[49m(\u001b[38;5;241m100\u001b[39m)\n\u001b[0;32m      3\u001b[0m \u001b[38;5;66;03m##we can notadd elements in a frozen set and also can not change the content of set\u001b[39;00m\n\u001b[0;32m      4\u001b[0m \u001b[38;5;66;03m## remove elements to frozen set\u001b[39;00m\n\u001b[0;32m      5\u001b[0m stt\u001b[38;5;241m.\u001b[39mremove(\u001b[38;5;241m4\u001b[39m)\n",
      "\u001b[1;31mAttributeError\u001b[0m: 'frozenset' object has no attribute 'add'"
     ]
    }
   ],
   "source": [
    "##adding elements to frozen set\n",
    "stt.add(100)\n",
    "print(stt)\n",
    "##we can notadd elements in a frozen set and also can not change the content of set\n",
    "\n",
    "## remove elements to frozen set\n",
    "stt.remove(4)\n",
    "print(stt)"
   ]
  },
  {
   "cell_type": "code",
   "execution_count": null,
   "id": "a428ef95",
   "metadata": {},
   "outputs": [],
   "source": [
    "##features of set\n",
    "#unique values\n",
    "#unordered: there is no fix order of elements in a set\n",
    "#mutable: you can add and remove elements of a set."
   ]
  },
  {
   "cell_type": "code",
   "execution_count": null,
   "id": "bbfb4770",
   "metadata": {},
   "outputs": [],
   "source": [
    "##features of frozen set\n",
    "#unique values= no duplication of elements.\n",
    "#unordered: there is no fix order of elements in a set\n",
    "#immutable: you can not add and remove elements of a set."
   ]
  },
  {
   "cell_type": "code",
   "execution_count": 59,
   "id": "edd7f04e",
   "metadata": {},
   "outputs": [
    {
     "name": "stdout",
     "output_type": "stream",
     "text": [
      "{1, 2, 4, 5, 'india'}\n",
      "{'ankit', 1, 2, 4, 5, 'india'}\n"
     ]
    }
   ],
   "source": [
    "st={1,2,3,4,5}\n",
    "st.add('india')\n",
    "st\n",
    "st.remove(3)\n",
    "print(st)\n",
    "st.add('ankit')\n",
    "print(st)"
   ]
  },
  {
   "cell_type": "code",
   "execution_count": null,
   "id": "7f9b81b3",
   "metadata": {},
   "outputs": [],
   "source": []
  },
  {
   "cell_type": "code",
   "execution_count": 34,
   "id": "93c98cad",
   "metadata": {
    "scrolled": true
   },
   "outputs": [
    {
     "name": "stdout",
     "output_type": "stream",
     "text": [
      "dict_values([1, 2])\n",
      "dict_keys(['A', 'B'])\n"
     ]
    }
   ],
   "source": [
    "## dict\n",
    "dt={'A':1,'B':2}\n",
    "type(dt)\n",
    "print(dt.values())\n",
    "print(dt.keys())"
   ]
  },
  {
   "cell_type": "code",
   "execution_count": 36,
   "id": "3c6c72e1",
   "metadata": {},
   "outputs": [
    {
     "name": "stdout",
     "output_type": "stream",
     "text": [
      "0\n"
     ]
    },
    {
     "data": {
      "text/plain": [
       "2"
      ]
     },
     "execution_count": 36,
     "metadata": {},
     "output_type": "execute_result"
    }
   ],
   "source": [
    "##operations on list\n",
    "#1.length of list\n",
    "ls=[]\n",
    "print(len(ls))# zero\n",
    "ls1=[1,2,1]\n",
    "len(ls1)# 3\n",
    "## count gives the no of times a element is there in a list\n",
    "ls1.count(1)"
   ]
  },
  {
   "cell_type": "code",
   "execution_count": 75,
   "id": "15962332",
   "metadata": {
    "scrolled": true
   },
   "outputs": [
    {
     "name": "stdout",
     "output_type": "stream",
     "text": [
      "[1]\n",
      "[1, ['a', 'b']]\n",
      "[1, ['a', 'b'], 'ankit']\n",
      "[1, ['a', 'b'], 'ankit', {1, 2, 3, 4}]\n",
      "[1, ['a', 'b'], 'ankit', {1, 2, 3, 4}, [1, 24, 5]]\n",
      "[1, ['a', 'b'], 'ankit', {1, 2, 3, 4}, [1, 24, 5], (2, 3, 5)]\n",
      "[1, ['a', 'b'], 'ankit', {1, 2, 3, 4}, [1, 24, 5], (2, 3, 5), {1: 3, 2: 4}]\n"
     ]
    }
   ],
   "source": [
    "#2.Adding elements to the list using append(we can not add multiple elements in a single go)\n",
    "ls=[]\n",
    "ls. append(1)\n",
    "print(ls)\n",
    "ls.append(['a','b'])\n",
    "print(ls)\n",
    "ls.append(\"ankit\")\n",
    "print(ls)\n",
    "ls.append({1,2,3,4})\n",
    "print(ls)\n",
    "ls.append([1,24,5])\n",
    "print(ls)\n",
    "ls.append((2,3,5))\n",
    "print(ls)\n",
    "ls.append({1:3,2:4})\n",
    "print(ls)\n",
    "\n"
   ]
  },
  {
   "cell_type": "code",
   "execution_count": 39,
   "id": "864c53b5",
   "metadata": {},
   "outputs": [
    {
     "name": "stdout",
     "output_type": "stream",
     "text": [
      "[1, 2, 3, 'ankit', 4]\n"
     ]
    }
   ],
   "source": [
    "##insert- add the elements in any place of the list\n",
    "# syntax\n",
    "#ls.insert(position, value)\n",
    "ls=[1,2,3,4]\n",
    "ls.insert(3,'ankit')\n",
    "print(ls)"
   ]
  },
  {
   "cell_type": "code",
   "execution_count": 40,
   "id": "c0aff2ec",
   "metadata": {},
   "outputs": [
    {
     "data": {
      "text/plain": [
       "[1, 2, 3, 4, 10, 20, 20]"
      ]
     },
     "execution_count": 40,
     "metadata": {},
     "output_type": "execute_result"
    }
   ],
   "source": [
    "## extend- (add multiple elements at the end)\n",
    "ls=[1,2,3,4]\n",
    "ls.extend([10,20,20])\n",
    "ls"
   ]
  },
  {
   "cell_type": "code",
   "execution_count": 78,
   "id": "f4028e80",
   "metadata": {},
   "outputs": [
    {
     "name": "stdout",
     "output_type": "stream",
     "text": [
      "[1, ['a', 'b'], 'ankit', {1, 2, 3, 4}, [1, 24, 5], (2, 3, 5), {1: 3, 2: 4}]\n",
      "[1, ['a', 'b'], {1, 2, 3, 4}, [1, 24, 5], (2, 3, 5), {1: 3, 2: 4}]\n"
     ]
    }
   ],
   "source": [
    "## remove()- remove any given element from list\n",
    "print(ls)\n",
    "ls.remove('ankit')\n",
    "print(ls)         "
   ]
  },
  {
   "cell_type": "code",
   "execution_count": 87,
   "id": "0540146c",
   "metadata": {},
   "outputs": [
    {
     "name": "stdout",
     "output_type": "stream",
     "text": [
      "[1, 2, 3, 4, 5, 6]\n",
      "[2, 3, 4, 5, 6]\n",
      "[2, 3, 4, 6]\n"
     ]
    }
   ],
   "source": [
    "#pop- by default remove last element of list,  but by given positoning(not index) we can also remove the element.\n",
    "ls=[1,2,3,4,5,6]\n",
    "print(ls)\n",
    "ls.pop(0)\n",
    "print(ls)\n",
    "ls.pop(3)\n",
    "print(ls)\n"
   ]
  },
  {
   "cell_type": "code",
   "execution_count": 2,
   "id": "3b7d730b",
   "metadata": {},
   "outputs": [
    {
     "name": "stdout",
     "output_type": "stream",
     "text": [
      "[1, 2, 5]\n"
     ]
    }
   ],
   "source": [
    "#delete-remove multiple elements\n",
    "ls=[1,2,3,4,5]\n",
    "del ls[2:4] ##delete multiple elements, there 2th  and 3th will be deleted 4th element is not included\n",
    "print(ls)"
   ]
  },
  {
   "cell_type": "code",
   "execution_count": 4,
   "id": "2d90d595",
   "metadata": {},
   "outputs": [
    {
     "name": "stdout",
     "output_type": "stream",
     "text": [
      "[]\n"
     ]
    }
   ],
   "source": [
    "##clear- delete the entire list \n",
    "ls=[1,2,3,4,5,6] \n",
    "ls.clear()\n",
    "print(ls)"
   ]
  },
  {
   "cell_type": "code",
   "execution_count": 2,
   "id": "4a55ec8c",
   "metadata": {},
   "outputs": [
    {
     "name": "stdout",
     "output_type": "stream",
     "text": [
      "Value of X\n",
      ":4\n",
      "Value of Y\n",
      ": 6\n"
     ]
    }
   ],
   "source": [
    "X=int(input(\"Value of X\\n:\"))\n",
    "Y=X+2\n",
    "print(\"Value of Y\\n:\",Y)\n"
   ]
  },
  {
   "cell_type": "code",
   "execution_count": 11,
   "id": "d5dd5b3d",
   "metadata": {},
   "outputs": [],
   "source": [
    "i=1\n",
    "for i in range(1,50,X):\n",
    "    list1=[i]\n",
    "    if len(list1)>16:\n",
    "        continue\n",
    "        print(list1)"
   ]
  },
  {
   "cell_type": "code",
   "execution_count": null,
   "id": "5946ef39",
   "metadata": {},
   "outputs": [],
   "source": []
  }
 ],
 "metadata": {
  "kernelspec": {
   "display_name": "Python 3 (ipykernel)",
   "language": "python",
   "name": "python3"
  },
  "language_info": {
   "codemirror_mode": {
    "name": "ipython",
    "version": 3
   },
   "file_extension": ".py",
   "mimetype": "text/x-python",
   "name": "python",
   "nbconvert_exporter": "python",
   "pygments_lexer": "ipython3",
   "version": "3.9.12"
  }
 },
 "nbformat": 4,
 "nbformat_minor": 5
}
