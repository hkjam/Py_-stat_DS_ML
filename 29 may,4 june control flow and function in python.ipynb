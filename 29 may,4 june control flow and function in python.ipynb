{
 "cells": [
  {
   "cell_type": "code",
   "execution_count": null,
   "id": "de104cbf",
   "metadata": {},
   "outputs": [],
   "source": [
    "##conditional statements(if,else,elif)\n",
    "##loops(for,while,break,continue,pass)"
   ]
  },
  {
   "cell_type": "code",
   "execution_count": null,
   "id": "c4cd9721",
   "metadata": {},
   "outputs": [],
   "source": [
    "#if- used for single condition\n",
    "#elif-for multiple condition\n",
    "#else-default conditions"
   ]
  },
  {
   "cell_type": "code",
   "execution_count": null,
   "id": "37e8e228",
   "metadata": {},
   "outputs": [],
   "source": [
    "x = 10\n",
    "if x == 10:\n",
    "   print('value of x is 10')"
   ]
  },
  {
   "cell_type": "code",
   "execution_count": null,
   "id": "7e405b1b",
   "metadata": {},
   "outputs": [],
   "source": [
    "x= 67\n",
    "if 5<x<25:\n",
    " print(\"yes\")\n",
    "elif 25<x:\n",
    " print(\"bada hoga yaar\")\n",
    "else:\n",
    " print(\"chota rh gya\")"
   ]
  },
  {
   "cell_type": "code",
   "execution_count": null,
   "id": "b39678e0",
   "metadata": {},
   "outputs": [],
   "source": [
    "x=46\n",
    "if x%2==0:\n",
    " print(\"number is even\")\n",
    "else:\n",
    " print('number is odd')"
   ]
  },
  {
   "cell_type": "code",
   "execution_count": null,
   "id": "aa50be9d",
   "metadata": {},
   "outputs": [],
   "source": [
    "## for loop: it is used to iterate through object\n",
    "ls=[1,2,3,4,5,6,7,8,9,10]\n",
    "for i in ls:\n",
    " print(i*9)"
   ]
  },
  {
   "cell_type": "code",
   "execution_count": 1,
   "id": "a1fc499e",
   "metadata": {
    "scrolled": true
   },
   "outputs": [
    {
     "name": "stdout",
     "output_type": "stream",
     "text": [
      "2\n",
      "4\n",
      "6\n",
      "8\n",
      "10\n"
     ]
    }
   ],
   "source": [
    "#combination of for and if\n",
    "## find the even number from list\n",
    "ls=[1,2,3,4,5,6,7,8,9,10]\n",
    "for i in ls:\n",
    "    if i%2==0:\n",
    "        print(i)\n",
    "   "
   ]
  },
  {
   "cell_type": "code",
   "execution_count": null,
   "id": "d9a614d6",
   "metadata": {},
   "outputs": [],
   "source": [
    "ls=[1,2,3,4,5,6,7,8,9,10]\n",
    "for i in ls:\n",
    "    if i%2==0 and i%3==0:\n",
    "        print(i)"
   ]
  },
  {
   "cell_type": "code",
   "execution_count": 3,
   "id": "4e1139e6",
   "metadata": {},
   "outputs": [
    {
     "name": "stdout",
     "output_type": "stream",
     "text": [
      "3\n",
      "6\n",
      "9\n",
      "12\n",
      "15\n",
      "18\n",
      "21\n",
      "24\n",
      "27\n",
      "30\n"
     ]
    }
   ],
   "source": [
    "for i in range(1,31):\n",
    "    if i%3==0:\n",
    "        print(i)"
   ]
  },
  {
   "cell_type": "code",
   "execution_count": null,
   "id": "c1fa4bb4",
   "metadata": {},
   "outputs": [],
   "source": [
    "for i in range(4,100):\n",
    "    if i%7==0 and i%8==0:\n",
    "         print(i)"
   ]
  },
  {
   "cell_type": "code",
   "execution_count": null,
   "id": "cac0caf4",
   "metadata": {},
   "outputs": [],
   "source": [
    "##while loop: the loops keeps on executing as long as the given condition is true\n",
    "a=1\n",
    "while a<=10:\n",
    "    print(a)\n",
    "    a+=1 ##for a=1, a=1+1=2(value increment is happening)"
   ]
  },
  {
   "cell_type": "code",
   "execution_count": 4,
   "id": "518b466a",
   "metadata": {},
   "outputs": [
    {
     "name": "stdout",
     "output_type": "stream",
     "text": [
      "0\n",
      "1\n",
      "2\n",
      "3\n",
      "4\n",
      "5\n",
      "6\n",
      "7\n",
      "8\n",
      "9\n",
      "10\n",
      "11\n",
      "12\n",
      "13\n",
      "14\n",
      "15\n"
     ]
    }
   ],
   "source": [
    "##run the loop till the variable is 15\n",
    "a=0\n",
    "while a<=15:\n",
    "    print(a)\n",
    "    a+=1"
   ]
  },
  {
   "cell_type": "code",
   "execution_count": 3,
   "id": "f173bfc3",
   "metadata": {},
   "outputs": [
    {
     "name": "stdout",
     "output_type": "stream",
     "text": [
      "1\n",
      "4\n",
      "9\n",
      "16\n",
      "25\n",
      "36\n",
      "49\n",
      "64\n",
      "81\n"
     ]
    }
   ],
   "source": [
    "##square of numbers using two variables.\n",
    "a=1\n",
    "i=1\n",
    "while a<10 and i<10:\n",
    "    print(a*i)\n",
    "    i+=1\n",
    "    a+=1"
   ]
  },
  {
   "cell_type": "code",
   "execution_count": 5,
   "id": "4b90d4a2",
   "metadata": {},
   "outputs": [
    {
     "name": "stdout",
     "output_type": "stream",
     "text": [
      "3\n",
      "6\n",
      "9\n",
      "12\n",
      "15\n",
      "18\n",
      "21\n",
      "24\n",
      "27\n",
      "30\n",
      "33\n",
      "36\n",
      "39\n",
      "42\n",
      "45\n",
      "48\n",
      "51\n",
      "54\n",
      "57\n"
     ]
    }
   ],
   "source": [
    "a=1\n",
    "while a in range(1,20):\n",
    "    print(a*3)\n",
    "    a+=1"
   ]
  },
  {
   "cell_type": "code",
   "execution_count": 2,
   "id": "3f3b893d",
   "metadata": {},
   "outputs": [
    {
     "name": "stdout",
     "output_type": "stream",
     "text": [
      "2\n",
      "4\n",
      "6\n",
      "8\n",
      "10\n",
      "12\n",
      "14\n",
      "16\n",
      "18\n",
      "20\n",
      "22\n",
      "24\n",
      "26\n",
      "28\n",
      "30\n",
      "32\n",
      "34\n",
      "36\n",
      "38\n",
      "40\n",
      "42\n",
      "44\n",
      "46\n",
      "48\n"
     ]
    }
   ],
   "source": [
    "i=1\n",
    "while i in range(1,25):\n",
    "        print(i*2)\n",
    "        i+=1"
   ]
  },
  {
   "cell_type": "code",
   "execution_count": null,
   "id": "ec76ea1a",
   "metadata": {},
   "outputs": [],
   "source": [
    "i=1\n",
    "while i in range(1,25):\n",
    "    if i%3==0:\n",
    "        print(i)\n",
    "        i+=1"
   ]
  },
  {
   "cell_type": "code",
   "execution_count": null,
   "id": "4477da65",
   "metadata": {},
   "outputs": [],
   "source": []
  },
  {
   "cell_type": "code",
   "execution_count": null,
   "id": "46fce889",
   "metadata": {},
   "outputs": [],
   "source": [
    "##control statements: break, continue and pass\n",
    "## Break: Interupt the execution and come out of loop\n",
    "ls=[1,2,3,6,5,4,8]\n",
    "for i in ls:\n",
    "    print(i)\n",
    "    if i==4:\n",
    "        break\n",
    "        "
   ]
  },
  {
   "cell_type": "code",
   "execution_count": 30,
   "id": "69d6502a",
   "metadata": {},
   "outputs": [
    {
     "name": "stdout",
     "output_type": "stream",
     "text": [
      "1\n",
      "3\n",
      "5\n",
      "7\n",
      "9\n",
      "11\n",
      "12\n"
     ]
    }
   ],
   "source": [
    "ls=[1,3,5,7,9,11,12,15,8]##break at even number\n",
    "for i in ls:\n",
    "    print(i)\n",
    "    if i%2==0:\n",
    "        break"
   ]
  },
  {
   "cell_type": "code",
   "execution_count": 1,
   "id": "626801e3",
   "metadata": {},
   "outputs": [
    {
     "name": "stdout",
     "output_type": "stream",
     "text": [
      "1\n",
      "2\n",
      "3\n"
     ]
    }
   ],
   "source": [
    "for i in range(1,30):\n",
    "    print(i)\n",
    "    if i%3==0:\n",
    "        break"
   ]
  },
  {
   "cell_type": "code",
   "execution_count": 4,
   "id": "f31bf2b4",
   "metadata": {},
   "outputs": [
    {
     "name": "stdout",
     "output_type": "stream",
     "text": [
      "1\n",
      "4\n",
      "9\n",
      "16\n",
      "25\n",
      "36\n",
      "16\n",
      "36\n",
      "49\n",
      "64\n",
      "49\n",
      "81\n",
      "0\n"
     ]
    }
   ],
   "source": [
    "ls=[1,2,3,4,5,6,4,6,7,8,7,9,0,78]\n",
    "for i in ls:\n",
    "    print(i**2)\n",
    "    if i==0:\n",
    "        break"
   ]
  },
  {
   "cell_type": "code",
   "execution_count": 35,
   "id": "c536f2d1",
   "metadata": {},
   "outputs": [
    {
     "name": "stdout",
     "output_type": "stream",
     "text": [
      "1\n",
      "2\n"
     ]
    }
   ],
   "source": [
    "ls=[1,2,3,5,11,13,9,78,67,]\n",
    "for i in ls:\n",
    "    print(i)\n",
    "    if i%2==0:\n",
    "        break\n",
    "        "
   ]
  },
  {
   "cell_type": "code",
   "execution_count": 3,
   "id": "5d7e325f",
   "metadata": {},
   "outputs": [
    {
     "name": "stdout",
     "output_type": "stream",
     "text": [
      "1\n"
     ]
    }
   ],
   "source": [
    "ls=[1,2,3,5,11,13,9,78,67,]\n",
    "for i in ls:\n",
    "    if i%2==0:\n",
    "        break\n",
    "    print(i)"
   ]
  },
  {
   "cell_type": "code",
   "execution_count": 4,
   "id": "b53bdcf3",
   "metadata": {},
   "outputs": [
    {
     "name": "stdout",
     "output_type": "stream",
     "text": [
      "1\n",
      "2\n",
      "3\n",
      "5\n",
      "11\n",
      "13\n",
      "9\n"
     ]
    }
   ],
   "source": [
    "ls=[1,2,3,5,11,13,9,78,67,]## break at 78 without printng 78\n",
    "for i in ls:\n",
    "    if i==78:\n",
    "        break\n",
    "    print(i)"
   ]
  },
  {
   "cell_type": "code",
   "execution_count": 5,
   "id": "b99543a0",
   "metadata": {},
   "outputs": [
    {
     "name": "stdout",
     "output_type": "stream",
     "text": [
      "1\n",
      "2\n",
      "3\n",
      "5\n",
      "11\n",
      "13\n",
      "9\n",
      "78\n"
     ]
    }
   ],
   "source": [
    "ls=[1,2,3,5,11,13,9,78,67,]##break at 78 and printng 78\n",
    "for i in ls:\n",
    "    print(i)\n",
    "    if i==78:\n",
    "        break    "
   ]
  },
  {
   "cell_type": "code",
   "execution_count": 23,
   "id": "070157a0",
   "metadata": {},
   "outputs": [
    {
     "name": "stdout",
     "output_type": "stream",
     "text": [
      "1\n",
      "2\n",
      "3\n",
      "6\n",
      "5\n",
      "8\n"
     ]
    }
   ],
   "source": [
    "## continue : stop the current itreation and then executing the next itreation\n",
    "ls=[1,2,3,6,5,4,8]#we have to skip 4\n",
    "for i in ls:\n",
    "    if i==4:\n",
    "        continue ## executeonly  when i =4 and when it executed any thing after it does not executed.\n",
    "    print(i)"
   ]
  },
  {
   "cell_type": "code",
   "execution_count": 6,
   "id": "ed76b99f",
   "metadata": {},
   "outputs": [
    {
     "name": "stdout",
     "output_type": "stream",
     "text": [
      "1\n",
      "2\n",
      "3\n",
      "6\n",
      "5\n",
      "4\n",
      "4\n",
      "8\n"
     ]
    }
   ],
   "source": [
    "ls=[1,2,3,6,5,4,8]\n",
    "for i in ls:\n",
    "    print(i)## i=4, 4 is printed\n",
    "    if i==4: ## i=4\n",
    "        print(i) \n",
    "        continue"
   ]
  },
  {
   "cell_type": "code",
   "execution_count": 7,
   "id": "dacee627",
   "metadata": {},
   "outputs": [
    {
     "name": "stdout",
     "output_type": "stream",
     "text": [
      "1\n",
      "2\n",
      "3\n",
      "6\n",
      "5\n",
      "4\n",
      "8\n"
     ]
    }
   ],
   "source": [
    "ls=[1,2,3,6,5,4,8]\n",
    "for i in ls:\n",
    "    print(i)\n",
    "    if i==4:\n",
    "        continue\n",
    "        "
   ]
  },
  {
   "cell_type": "code",
   "execution_count": 9,
   "id": "42b94e9c",
   "metadata": {},
   "outputs": [
    {
     "name": "stdout",
     "output_type": "stream",
     "text": [
      "1\n",
      "2\n",
      "3\n",
      "6\n",
      "5\n",
      "8\n"
     ]
    }
   ],
   "source": [
    "ls=[1,2,3,6,5,4,8]\n",
    "for i in ls:\n",
    "    if i==4:\n",
    "        continue\n",
    "    print(i)"
   ]
  },
  {
   "cell_type": "code",
   "execution_count": null,
   "id": "6fb1d500",
   "metadata": {},
   "outputs": [],
   "source": []
  },
  {
   "cell_type": "code",
   "execution_count": 24,
   "id": "63595173",
   "metadata": {},
   "outputs": [
    {
     "name": "stdout",
     "output_type": "stream",
     "text": [
      "1\n",
      "2\n",
      "3\n",
      "4\n",
      "6\n",
      "7\n",
      "8\n",
      "9\n",
      "10\n"
     ]
    }
   ],
   "source": [
    "ls=[1,2,3,4,5,6,7,8,9,10]\n",
    "for i in ls:\n",
    "        if i==5:\n",
    "            continue\n",
    "        print(i)"
   ]
  },
  {
   "cell_type": "code",
   "execution_count": 29,
   "id": "d7de6539",
   "metadata": {},
   "outputs": [
    {
     "name": "stdout",
     "output_type": "stream",
     "text": [
      "1\n",
      "3\n",
      "7\n",
      "9\n",
      "11\n",
      "13\n",
      "17\n",
      "19\n",
      "21\n",
      "23\n",
      "27\n",
      "29\n"
     ]
    }
   ],
   "source": [
    "for i in range(1,30):\n",
    "    if i%2==0 or i%5==0:\n",
    "        continue\n",
    "    print(i)"
   ]
  },
  {
   "cell_type": "code",
   "execution_count": null,
   "id": "2a5a4bc7",
   "metadata": {},
   "outputs": [
    {
     "name": "stdout",
     "output_type": "stream",
     "text": [
      "0\n",
      "1\n",
      "2\n",
      "3\n",
      "4\n",
      "5\n",
      "6\n"
     ]
    }
   ],
   "source": [
    "a=0\n",
    "while a<20:    \n",
    "    if a==7:\n",
    "        continue\n",
    "    print(a)\n",
    "    a+=1"
   ]
  },
  {
   "cell_type": "code",
   "execution_count": 1,
   "id": "5bf2afc9",
   "metadata": {},
   "outputs": [
    {
     "name": "stdout",
     "output_type": "stream",
     "text": [
      "1\n",
      "2\n",
      "3\n",
      "4\n",
      "5\n",
      "6\n",
      "8\n",
      "9\n",
      "10\n",
      "11\n",
      "12\n",
      "13\n",
      "14\n",
      "15\n",
      "16\n",
      "17\n",
      "18\n",
      "19\n",
      "20\n"
     ]
    }
   ],
   "source": [
    "a=0\n",
    "while a<20: \n",
    "    a+=1\n",
    "    if a==7:\n",
    "        continue\n",
    "    print(a)\n",
    "    "
   ]
  },
  {
   "cell_type": "code",
   "execution_count": 13,
   "id": "f93facf7",
   "metadata": {},
   "outputs": [
    {
     "name": "stdout",
     "output_type": "stream",
     "text": [
      "1\n",
      "2\n",
      "3\n",
      "4\n",
      "6\n",
      "7\n",
      "8\n",
      "9\n",
      "11\n",
      "12\n",
      "13\n",
      "14\n",
      "16\n",
      "17\n",
      "18\n",
      "19\n",
      "21\n",
      "22\n",
      "23\n",
      "24\n",
      "26\n",
      "27\n",
      "28\n",
      "29\n",
      "31\n",
      "32\n",
      "33\n",
      "34\n",
      "36\n",
      "37\n",
      "38\n",
      "39\n",
      "41\n",
      "42\n",
      "43\n",
      "44\n",
      "46\n",
      "47\n",
      "48\n",
      "49\n",
      "51\n",
      "52\n",
      "53\n",
      "54\n",
      "56\n",
      "57\n",
      "58\n",
      "59\n",
      "61\n",
      "62\n",
      "63\n",
      "64\n",
      "66\n",
      "67\n",
      "68\n",
      "69\n",
      "71\n",
      "72\n",
      "73\n",
      "74\n",
      "76\n",
      "77\n",
      "78\n",
      "79\n",
      "81\n",
      "82\n",
      "83\n",
      "84\n",
      "86\n",
      "87\n",
      "88\n",
      "89\n",
      "91\n",
      "92\n",
      "93\n",
      "94\n",
      "96\n",
      "97\n",
      "98\n",
      "99\n",
      "101\n",
      "102\n",
      "103\n",
      "104\n",
      "106\n",
      "107\n",
      "108\n",
      "109\n",
      "111\n",
      "112\n",
      "113\n",
      "114\n",
      "116\n",
      "117\n",
      "118\n",
      "119\n",
      "121\n",
      "122\n",
      "123\n",
      "124\n",
      "126\n",
      "127\n",
      "128\n",
      "129\n",
      "131\n",
      "132\n",
      "133\n",
      "134\n",
      "136\n",
      "137\n",
      "138\n",
      "139\n",
      "141\n",
      "142\n",
      "143\n",
      "144\n",
      "146\n",
      "147\n",
      "148\n",
      "149\n",
      "151\n",
      "152\n",
      "153\n",
      "154\n",
      "156\n",
      "157\n",
      "158\n",
      "159\n",
      "161\n",
      "162\n",
      "163\n",
      "164\n",
      "166\n",
      "167\n",
      "168\n",
      "169\n",
      "171\n",
      "172\n",
      "173\n",
      "174\n",
      "176\n",
      "177\n",
      "178\n",
      "179\n",
      "181\n",
      "182\n",
      "183\n",
      "184\n",
      "186\n",
      "187\n",
      "188\n",
      "189\n",
      "191\n",
      "192\n",
      "193\n",
      "194\n",
      "196\n",
      "197\n",
      "198\n",
      "199\n"
     ]
    }
   ],
   "source": [
    "for i in range(1,200):\n",
    "    if i%5==0:\n",
    "        continue\n",
    "    print(i)"
   ]
  },
  {
   "cell_type": "code",
   "execution_count": 34,
   "id": "90af3c56",
   "metadata": {},
   "outputs": [
    {
     "name": "stdout",
     "output_type": "stream",
     "text": [
      "4\n",
      "12\n",
      "16\n",
      "20\n",
      "24\n",
      "28\n",
      "32\n",
      "36\n",
      "40\n"
     ]
    }
   ],
   "source": [
    "## table of 4 without 8\n",
    "for i in range(1,11):\n",
    "    if i*4==8:\n",
    "        continue\n",
    "    print(i*4)"
   ]
  },
  {
   "cell_type": "code",
   "execution_count": null,
   "id": "85906cf4",
   "metadata": {},
   "outputs": [],
   "source": []
  },
  {
   "cell_type": "code",
   "execution_count": 21,
   "id": "e6dbbd28",
   "metadata": {},
   "outputs": [
    {
     "name": "stdout",
     "output_type": "stream",
     "text": [
      "2\n",
      "3\n",
      "4\n",
      "5\n",
      "6\n",
      "7\n",
      "8\n"
     ]
    }
   ],
   "source": [
    "##pass: it will just let the iterator to pass to avoid error in program\n",
    "ls=[1,2,3,4,5,6,7]\n",
    "for i in ls:\n",
    "    pass\n",
    "    print(i*2)"
   ]
  },
  {
   "cell_type": "code",
   "execution_count": 39,
   "id": "ddd56b25",
   "metadata": {},
   "outputs": [
    {
     "ename": "IndentationError",
     "evalue": "expected an indented block (826550798.py, line 4)",
     "output_type": "error",
     "traceback": [
      "\u001b[1;36m  Input \u001b[1;32mIn [39]\u001b[1;36m\u001b[0m\n\u001b[1;33m    print(i*4)\u001b[0m\n\u001b[1;37m    ^\u001b[0m\n\u001b[1;31mIndentationError\u001b[0m\u001b[1;31m:\u001b[0m expected an indented block\n"
     ]
    }
   ],
   "source": [
    "for i in range(1,11):\n",
    "    if i*4==8:\n",
    "        ##pass\n",
    "    print(i*4)"
   ]
  },
  {
   "cell_type": "code",
   "execution_count": 40,
   "id": "78951bbb",
   "metadata": {},
   "outputs": [
    {
     "name": "stdout",
     "output_type": "stream",
     "text": [
      "4\n",
      "8\n",
      "12\n",
      "16\n",
      "20\n",
      "24\n",
      "28\n",
      "32\n",
      "36\n",
      "40\n"
     ]
    }
   ],
   "source": [
    "for i in range(1,11):\n",
    "    if i*4==8:\n",
    "        pass ## if we do no know what to write under if statement and we have to avoid error \n",
    "    print(i*4)"
   ]
  },
  {
   "cell_type": "code",
   "execution_count": 43,
   "id": "f20323d7",
   "metadata": {},
   "outputs": [],
   "source": [
    "## functions: functions are set of reusable codes\n",
    "## function to print a welcone message\n",
    "\n",
    "def welcome():## def is keyword used to define a function\n",
    "    print(\"hi welcome to python!!\")"
   ]
  },
  {
   "cell_type": "code",
   "execution_count": 44,
   "id": "4b1fa8a9",
   "metadata": {},
   "outputs": [
    {
     "name": "stdout",
     "output_type": "stream",
     "text": [
      "hi welcome to python!!\n"
     ]
    }
   ],
   "source": [
    "welcome()"
   ]
  },
  {
   "cell_type": "code",
   "execution_count": 55,
   "id": "8364a2a6",
   "metadata": {
    "scrolled": true
   },
   "outputs": [],
   "source": [
    "##function to create the table of a given number\n",
    "def tabl(a): ## a is arugment \n",
    "    i=1\n",
    "    while i<=10:\n",
    "        print(i*a)\n",
    "        i+=1"
   ]
  },
  {
   "cell_type": "code",
   "execution_count": 56,
   "id": "be9eb2c3",
   "metadata": {
    "scrolled": false
   },
   "outputs": [
    {
     "name": "stdout",
     "output_type": "stream",
     "text": [
      "2\n",
      "4\n",
      "6\n",
      "8\n",
      "10\n",
      "12\n",
      "14\n",
      "16\n",
      "18\n",
      "20\n"
     ]
    }
   ],
   "source": [
    "tabl(2)"
   ]
  },
  {
   "cell_type": "code",
   "execution_count": 57,
   "id": "2e080b71",
   "metadata": {},
   "outputs": [
    {
     "name": "stdout",
     "output_type": "stream",
     "text": [
      "9\n",
      "18\n",
      "27\n",
      "36\n",
      "45\n",
      "54\n",
      "63\n",
      "72\n",
      "81\n",
      "90\n"
     ]
    }
   ],
   "source": [
    "tabl(9)"
   ]
  },
  {
   "cell_type": "code",
   "execution_count": 62,
   "id": "46563340",
   "metadata": {},
   "outputs": [],
   "source": [
    "def table(b):\n",
    "    i=1\n",
    "    while i<11:\n",
    "        print(i*b)\n",
    "        i+=1"
   ]
  },
  {
   "cell_type": "code",
   "execution_count": 63,
   "id": "09d133d2",
   "metadata": {},
   "outputs": [
    {
     "name": "stdout",
     "output_type": "stream",
     "text": [
      "5\n",
      "10\n",
      "15\n",
      "20\n",
      "25\n",
      "30\n",
      "35\n",
      "40\n",
      "45\n",
      "50\n"
     ]
    }
   ],
   "source": [
    "table(5)"
   ]
  },
  {
   "cell_type": "code",
   "execution_count": 58,
   "id": "005cc36c",
   "metadata": {},
   "outputs": [],
   "source": [
    "##create a function to add 2 numbers\n",
    "def addnum(a,b):\n",
    "    print(a+b)"
   ]
  },
  {
   "cell_type": "code",
   "execution_count": 59,
   "id": "ac47be69",
   "metadata": {},
   "outputs": [
    {
     "name": "stdout",
     "output_type": "stream",
     "text": [
      "11\n"
     ]
    }
   ],
   "source": [
    "addnum(5,6)"
   ]
  },
  {
   "cell_type": "code",
   "execution_count": 67,
   "id": "3c10c2af",
   "metadata": {},
   "outputs": [],
   "source": [
    "def sum1(a,b):\n",
    "    print(a+b)"
   ]
  },
  {
   "cell_type": "code",
   "execution_count": 68,
   "id": "741e45cf",
   "metadata": {},
   "outputs": [
    {
     "name": "stdout",
     "output_type": "stream",
     "text": [
      "11\n"
     ]
    }
   ],
   "source": [
    "sum1(9,2)"
   ]
  },
  {
   "cell_type": "code",
   "execution_count": 70,
   "id": "68c92f78",
   "metadata": {},
   "outputs": [],
   "source": [
    "def sub(a,b):\n",
    "    print(a-b)"
   ]
  },
  {
   "cell_type": "code",
   "execution_count": 71,
   "id": "22407c69",
   "metadata": {},
   "outputs": [
    {
     "name": "stdout",
     "output_type": "stream",
     "text": [
      "334\n"
     ]
    }
   ],
   "source": [
    "sub(900,566)"
   ]
  },
  {
   "cell_type": "code",
   "execution_count": null,
   "id": "e1d60a90",
   "metadata": {},
   "outputs": [],
   "source": [
    "## simple calculator using pyrhon\n",
    "## take input of 2 number from user\n",
    "## take input of operation from user(add,subs)"
   ]
  },
  {
   "cell_type": "code",
   "execution_count": null,
   "id": "e35f191a",
   "metadata": {},
   "outputs": [],
   "source": [
    "a=input('type the input')\n",
    "print(a)"
   ]
  },
  {
   "cell_type": "code",
   "execution_count": 1,
   "id": "2e4af4d3",
   "metadata": {},
   "outputs": [
    {
     "name": "stdout",
     "output_type": "stream",
     "text": [
      "range(0, 20)\n",
      "[0, 1, 2, 3, 4, 5, 6, 7, 8, 9, 10, 11, 12, 13, 14, 15, 16, 17, 18, 19]\n",
      "range(0, 20)\n",
      "[0, 1, 2, 3, 4, 5, 6, 7, 8, 9, 10, 11, 12, 13, 14, 15, 16, 17, 18, 19]\n"
     ]
    }
   ],
   "source": [
    "##range function: create a sequence of numbers\n",
    "#range(start,stop, step)\n",
    "#start by default is 0\n",
    "#stop is compulsory\n",
    "#step is optional: default is 1\n",
    "a=range(0,20,1)\n",
    "print(a)\n",
    "a=list(range(0,20,1))\n",
    "print(a)\n",
    "a=range(20)\n",
    "print(a)\n",
    "a=list(range(20))\n",
    "print(a)"
   ]
  },
  {
   "cell_type": "code",
   "execution_count": 3,
   "id": "435ddec4",
   "metadata": {},
   "outputs": [
    {
     "name": "stdout",
     "output_type": "stream",
     "text": [
      "range(0, 20)\n",
      "[0, 1, 2, 3, 4, 5, 6, 7, 8, 9, 10, 11, 12, 13, 14, 15, 16, 17, 18, 19]\n"
     ]
    }
   ],
   "source": [
    "a=range(20)\n",
    "print(a)\n",
    "a=list(range(20))\n",
    "print(a)"
   ]
  },
  {
   "cell_type": "code",
   "execution_count": 5,
   "id": "e1893e32",
   "metadata": {},
   "outputs": [
    {
     "name": "stdout",
     "output_type": "stream",
     "text": [
      "range(0, 20, 2)\n",
      "[0, 2, 4, 6, 8, 10, 12, 14, 16, 18]\n"
     ]
    }
   ],
   "source": [
    "a=range(0,20,2)\n",
    "print(a)\n",
    "a=list(range(0,20,2))\n",
    "print(a)"
   ]
  },
  {
   "cell_type": "code",
   "execution_count": null,
   "id": "8a7b5fab",
   "metadata": {},
   "outputs": [],
   "source": [
    "##lambda function: funation without name and take any number of argument\n",
    "#lambda (arguments:value)\n",
    "x=lambda a:a+12\n",
    "print(x(3))\n",
    "## x is a variable which stores function and lambda is a keyword. "
   ]
  },
  {
   "cell_type": "code",
   "execution_count": null,
   "id": "3ddc7f7a",
   "metadata": {},
   "outputs": [],
   "source": [
    "x=lambda a,b,c,d:a+b+c+d\n",
    "print(x(3,4,5,6))"
   ]
  },
  {
   "cell_type": "code",
   "execution_count": null,
   "id": "993a2038",
   "metadata": {},
   "outputs": [],
   "source": [
    "print(x(4,4,4,4))"
   ]
  },
  {
   "cell_type": "code",
   "execution_count": 6,
   "id": "9c39fc22",
   "metadata": {},
   "outputs": [
    {
     "name": "stdout",
     "output_type": "stream",
     "text": [
      "24\n"
     ]
    }
   ],
   "source": [
    "a=lambda x,y,z:x*y*z\n",
    "print(a(2,3,4))"
   ]
  },
  {
   "cell_type": "code",
   "execution_count": 7,
   "id": "c4830f88",
   "metadata": {},
   "outputs": [
    {
     "name": "stdout",
     "output_type": "stream",
     "text": [
      "4\n"
     ]
    }
   ],
   "source": [
    "a=lambda x,y,z,b:x*y*z-b\n",
    "print(a(2,3,4,20))"
   ]
  }
 ],
 "metadata": {
  "kernelspec": {
   "display_name": "Python 3 (ipykernel)",
   "language": "python",
   "name": "python3"
  },
  "language_info": {
   "codemirror_mode": {
    "name": "ipython",
    "version": 3
   },
   "file_extension": ".py",
   "mimetype": "text/x-python",
   "name": "python",
   "nbconvert_exporter": "python",
   "pygments_lexer": "ipython3",
   "version": "3.9.12"
  }
 },
 "nbformat": 4,
 "nbformat_minor": 5
}
