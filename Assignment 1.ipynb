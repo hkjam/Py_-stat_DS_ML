{
 "cells": [
  {
   "cell_type": "code",
   "execution_count": null,
   "id": "9e1ae8c0",
   "metadata": {},
   "outputs": [],
   "source": [
    "## Problem Statement 1: Write a Python program to multiply a 𝑀 × 𝑁 matrix by 𝑁 × 𝐴 matrix and create a real matrix product."
   ]
  },
  {
   "cell_type": "code",
   "execution_count": 2,
   "id": "7c3da3bc",
   "metadata": {},
   "outputs": [],
   "source": [
    "import numpy as np"
   ]
  },
  {
   "cell_type": "code",
   "execution_count": 42,
   "id": "5efc1f6f",
   "metadata": {},
   "outputs": [
    {
     "name": "stdout",
     "output_type": "stream",
     "text": [
      "enter the value of M:5\n",
      "enter the value of N:3\n",
      "enter the value of A:2\n",
      "First array A1:\n",
      " [[0 8 3]\n",
      " [2 3 6]\n",
      " [4 6 1]\n",
      " [8 6 1]\n",
      " [0 0 7]]\n",
      "Second array B1:\n",
      " [[3 4]\n",
      " [7 7]\n",
      " [9 3]]\n",
      "Dot product of A1 and B1 array is:\n",
      " [[83 65]\n",
      " [81 47]\n",
      " [63 61]\n",
      " [75 77]\n",
      " [63 21]]\n"
     ]
    }
   ],
   "source": [
    "M=int(input(\"enter the value of M:\"))\n",
    "\n",
    "N=int(input(\"enter the value of N:\"))\n",
    "\n",
    "A=int(input(\"enter the value of A:\"))\n",
    "\n",
    "\n",
    "A1=np.random.randint(10,size=(M,N))\n",
    "print(\"First array A1:\\n\", A1)\n",
    "\n",
    "B1=np.random.randint(10,size=(N,A))\n",
    "print(\"Second array B1:\\n\",B1)\n",
    "\n",
    "C=np.dot(A1,B1)\n",
    "print(\"Dot product of A1 and B1 array is:\\n\", C)"
   ]
  },
  {
   "cell_type": "code",
   "execution_count": null,
   "id": "4247bc6d",
   "metadata": {},
   "outputs": [],
   "source": []
  },
  {
   "cell_type": "code",
   "execution_count": null,
   "id": "a1530dfe",
   "metadata": {},
   "outputs": [],
   "source": [
    "##Problem Statement 2: Write a NumPy program to check if each element of an array of yourchoice is composed of digits, lower case letters, and upper case letters only."
   ]
  },
  {
   "cell_type": "code",
   "execution_count": 37,
   "id": "556e5196",
   "metadata": {},
   "outputs": [
    {
     "name": "stdout",
     "output_type": "stream",
     "text": [
      "Original array is:\n",
      "\n",
      "['Ankit' 'rrr' 'KGF' '34' 'RRR' 'ankit' '78']\n"
     ]
    }
   ],
   "source": [
    "Originalarray= np.array([\"Ankit\",\"rrr\",\"KGF\",\"34\",\"RRR\",\"ankit\",\"78\"])\n",
    "print(\"Original array is:\\n\")\n",
    "print(Originalarray)"
   ]
  },
  {
   "cell_type": "code",
   "execution_count": 5,
   "id": "1a272de2",
   "metadata": {},
   "outputs": [
    {
     "name": "stdout",
     "output_type": "stream",
     "text": [
      "Lower case only:\n",
      "\n",
      "[False  True False False False  True False]\n"
     ]
    }
   ],
   "source": [
    "## Lower case only\n",
    "print(\"Lower case only:\\n\")\n",
    "print(np.char.islower(Originalarray))"
   ]
  },
  {
   "cell_type": "code",
   "execution_count": 43,
   "id": "7ff574ef",
   "metadata": {},
   "outputs": [
    {
     "name": "stdout",
     "output_type": "stream",
     "text": [
      "Upper case only:\n",
      "\n",
      "[False False  True False  True False False]\n"
     ]
    }
   ],
   "source": [
    "## Upper case only\n",
    "print(\"Upper case only:\\n\")\n",
    "print(np.char.isupper(Originalarray))"
   ]
  },
  {
   "cell_type": "code",
   "execution_count": 44,
   "id": "fb6c6f2f",
   "metadata": {
    "scrolled": true
   },
   "outputs": [
    {
     "name": "stdout",
     "output_type": "stream",
     "text": [
      "Digits only:\n",
      "\n",
      "[False False False  True False False  True]\n"
     ]
    }
   ],
   "source": [
    "## Digits only\n",
    "print(\"Digits only:\\n\")\n",
    "print(np.char.isdigit(Originalarray))"
   ]
  },
  {
   "cell_type": "code",
   "execution_count": null,
   "id": "1abd9123",
   "metadata": {},
   "outputs": [],
   "source": [
    "##Problem Statement 3: Write a program that reads two space-separated positive integers 𝑋 and 𝑌 as input and perform the following tasks:"
   ]
  },
  {
   "cell_type": "code",
   "execution_count": 14,
   "id": "50a53bd0",
   "metadata": {},
   "outputs": [
    {
     "name": "stdout",
     "output_type": "stream",
     "text": [
      "4,7\n",
      "Value of X:\n",
      " 4\n",
      "Value of Y:\n",
      " 7\n",
      "Required lst1 with step X is:\n",
      " [1, 5, 9, 13, 17, 21, 25, 29, 33, 37, 41, 45, 49, 53, 57, 61]\n",
      "Required lst2 with step Y is:\n",
      " [1, 8, 15, 22, 29, 36, 43, 50, 57, 64, 71, 78, 85, 92, 99, 106]\n"
     ]
    }
   ],
   "source": [
    "##1.Create a list (lst1) starting at one (1) with 16 elements at a step of X\n",
    "X,Y=input().split(sep=\",\")\n",
    "print(\"Value of X:\\n\",X)\n",
    "print(\"Value of Y:\\n\",Y)\n",
    "lst1=[]\n",
    "for i in range (1,200,int(X)):\n",
    "    lst1.append(i)\n",
    "    if len(lst1)>15:\n",
    "        print(\"Required lst1 with step X is:\\n\",lst1)\n",
    "        break\n",
    "        \n",
    "##2.Create a list (lst2) starting at one (1) with 16 elements at a step of Y\n",
    "lst2=[]\n",
    "for i in range (1,200,int(Y)):\n",
    "    lst2.append(i)\n",
    "    if len(lst2)>15:\n",
    "        print(\"Required lst2 with step Y is:\\n\",lst2)\n",
    "        break"
   ]
  },
  {
   "cell_type": "code",
   "execution_count": 15,
   "id": "20ae392a",
   "metadata": {},
   "outputs": [
    {
     "name": "stdout",
     "output_type": "stream",
     "text": [
      "Numpy Array np1 by using lst1 is:\n",
      " [ 1  5  9 13 17 21 25 29 33 37 41 45 49 53 57 61]\n",
      "Numpy Array np2 by using lst2 is:\n",
      " [  1   8  15  22  29  36  43  50  57  64  71  78  85  92  99 106]\n"
     ]
    }
   ],
   "source": [
    "##3.Create two NumPy arrays np1 and np2 using lst1 and lst2 respectively.\n",
    "import numpy as np\n",
    "\n",
    "np1=np.array(lst1)\n",
    "print(\"Numpy Array np1 by using lst1 is:\\n\",np1)\n",
    "\n",
    "np2=np.array(lst2)\n",
    "print(\"Numpy Array np2 by using lst2 is:\\n\",np2)"
   ]
  },
  {
   "cell_type": "code",
   "execution_count": 16,
   "id": "7966d555",
   "metadata": {},
   "outputs": [
    {
     "name": "stdout",
     "output_type": "stream",
     "text": [
      "Array1 obtained by reshape np1 is:\n",
      " [[ 1  5  9 13]\n",
      " [17 21 25 29]\n",
      " [33 37 41 45]\n",
      " [49 53 57 61]]\n",
      "Array2 obtained by reshape np2 is:\n",
      " [[  1   8  15  22]\n",
      " [ 29  36  43  50]\n",
      " [ 57  64  71  78]\n",
      " [ 85  92  99 106]]\n"
     ]
    }
   ],
   "source": [
    "##4.Reshape both the NumPy arrays to (4,4)\n",
    "Array1=np1.reshape(4,4)\n",
    "print(\"Array1 obtained by reshape np1 is:\\n\",Array1)\n",
    "\n",
    "Array2=np2.reshape(4,4)\n",
    "print(\"Array2 obtained by reshape np2 is:\\n\",Array2)"
   ]
  },
  {
   "cell_type": "code",
   "execution_count": 17,
   "id": "314936d5",
   "metadata": {},
   "outputs": [
    {
     "name": "stdout",
     "output_type": "stream",
     "text": [
      "new np array np3 is:\n",
      " [[  0  -3  -6  -9]\n",
      " [-12 -15 -18 -21]\n",
      " [-24 -27 -30 -33]\n",
      " [-36 -39 -42 -45]]\n"
     ]
    }
   ],
   "source": [
    "##5.Create a new np array (np3) with values obtained by subtracting both the arrays (np1 -np2)\n",
    "np3=Array1-Array2\n",
    "print(\"new np array np3 is:\\n\",np3)"
   ]
  },
  {
   "cell_type": "code",
   "execution_count": 18,
   "id": "5ba4ba8c",
   "metadata": {},
   "outputs": [
    {
     "name": "stdout",
     "output_type": "stream",
     "text": [
      "all the elements of np3 in a single dimension list:\n",
      " [  0  -3  -6  -9 -12 -15 -18 -21 -24 -27 -30 -33 -36 -39 -42 -45]\n"
     ]
    }
   ],
   "source": [
    "##6.Print all the elements of np3 in a single dimension list \n",
    "list1=np3.ravel()\n",
    "print(\"all the elements of np3 in a single dimension list:\\n\",list1)"
   ]
  },
  {
   "cell_type": "code",
   "execution_count": null,
   "id": "71b14562",
   "metadata": {},
   "outputs": [],
   "source": [
    "##Problem Statement 4: Write a python program that takes two integer numpy array,P and Q of shape[3*3] and perform the following taks:\n",
    "##Print the element wise difference of matrix P and Q."
   ]
  },
  {
   "cell_type": "code",
   "execution_count": 11,
   "id": "2c7c7675",
   "metadata": {},
   "outputs": [
    {
     "name": "stdout",
     "output_type": "stream",
     "text": [
      "Array P is:\n",
      " [[23 45 44]\n",
      " [34 22 67]\n",
      " [12 89 55]]\n",
      "Array Q is:\n",
      " [[12 40 24]\n",
      " [ 1 19 57]\n",
      " [22 79 25]]\n",
      "Element wise difference of matrix P and Q is:\n",
      "[[ 11   5  20]\n",
      " [ 33   3  10]\n",
      " [-10  10  30]]\n"
     ]
    }
   ],
   "source": [
    "P=np.array([[23,45,44],[34,22,67],[12,89,55]])\n",
    "print(\"Array P is:\\n\",P)\n",
    "\n",
    "Q=np.array([[12,40,24],[1,19,57],[22,79,25]])\n",
    "print(\"Array Q is:\\n\",Q)\n",
    "\n",
    "print(\"Element wise difference of matrix P and Q is:\")\n",
    "print(P-Q)"
   ]
  }
 ],
 "metadata": {
  "kernelspec": {
   "display_name": "Python 3 (ipykernel)",
   "language": "python",
   "name": "python3"
  },
  "language_info": {
   "codemirror_mode": {
    "name": "ipython",
    "version": 3
   },
   "file_extension": ".py",
   "mimetype": "text/x-python",
   "name": "python",
   "nbconvert_exporter": "python",
   "pygments_lexer": "ipython3",
   "version": "3.9.12"
  }
 },
 "nbformat": 4,
 "nbformat_minor": 5
}
