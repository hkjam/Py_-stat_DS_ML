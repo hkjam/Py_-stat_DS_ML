{
 "cells": [
  {
   "cell_type": "code",
   "execution_count": 14,
   "id": "a69c6aca",
   "metadata": {
    "scrolled": true
   },
   "outputs": [
    {
     "name": "stdout",
     "output_type": "stream",
     "text": [
      "Twinkle, twinkle, little star, \n",
      "\tHow I wonder what you are!, \n",
      "\t\tUp above the world so high,\n",
      "\t\tLike a diamond in the sky.\n",
      "Twinkle, twinkle, little star,\n",
      "\tHow I wonder what you are\n",
      "\n"
     ]
    }
   ],
   "source": [
    "str=(\"Twinkle, twinkle, little star, \\n\\tHow I wonder what you are!, \\n\\t\\tUp above the world so high,\\n\\t\\tLike a diamond in the sky.\\nTwinkle, twinkle, little star,\\n\\tHow I wonder what you are\\n\")\n",
    "print(str)"
   ]
  },
  {
   "cell_type": "code",
   "execution_count": 19,
   "id": "6cefa68d",
   "metadata": {},
   "outputs": [
    {
     "name": "stdout",
     "output_type": "stream",
     "text": [
      "3.9.12\n"
     ]
    }
   ],
   "source": [
    "##python version\n",
    "import platform\n",
    "print(platform.python_version())"
   ]
  },
  {
   "cell_type": "code",
   "execution_count": 14,
   "id": "b3ae578b",
   "metadata": {},
   "outputs": [
    {
     "name": "stdout",
     "output_type": "stream",
     "text": [
      "Radius of cricle is:\n",
      "1.1\n",
      "Area of cricle is:\n",
      " 3.8013271108436504\n"
     ]
    }
   ],
   "source": [
    "##Area of cricle\n",
    "from math import pi\n",
    "r=float(input(\"Radius of cricle is:\\n\"))\n",
    "Area=(pi*r**2)\n",
    "print(\"Area of cricle is:\\n\",Area)"
   ]
  },
  {
   "cell_type": "code",
   "execution_count": 18,
   "id": "295098f9",
   "metadata": {},
   "outputs": [
    {
     "name": "stdout",
     "output_type": "stream",
     "text": [
      "Enter your first name:v\n",
      "Enter your last name:b\n",
      "Hellobv\n"
     ]
    }
   ],
   "source": [
    "##Write a Python program which accepts the user's first and last name and print them in reverse order with a space between them.\n",
    "firstname=input(\"Enter your first name:\")\n",
    "Lastname= input(\"Enter your last name:\")\n",
    "print(\"Hello\" + Lastname+ firstname)"
   ]
  },
  {
   "cell_type": "code",
   "execution_count": 2,
   "id": "8816b8a8",
   "metadata": {},
   "outputs": [
    {
     "name": "stdout",
     "output_type": "stream",
     "text": [
      "Enter some comma seprated nubmers: 2,4,5,6\n",
      "['2', '4', '5', '6']\n",
      "('2', '4', '5', '6')\n"
     ]
    }
   ],
   "source": [
    "##Write a Python program which accepts a sequence of comma-separated numbers from user and generate a list and a tuple with those numbers.\n",
    "a=input(\"Enter some comma seprated nubmers: \")\n",
    "ls=a.split(\",\")\n",
    "t= tuple(ls)\n",
    "print(ls)\n",
    "print(t)"
   ]
  },
  {
   "cell_type": "code",
   "execution_count": 3,
   "id": "12a2f3e5",
   "metadata": {},
   "outputs": [
    {
     "name": "stdout",
     "output_type": "stream",
     "text": [
      "C:/Users/Ankit Sharma/Downloads/Documents/Unit 6 Boiler\n",
      ".pdf\n"
     ]
    }
   ],
   "source": [
    "import os\n",
    "filename, fileext=os.path.splitext(\"C:/Users/Ankit Sharma/Downloads/Documents/Unit 6 Boiler.pdf\")\n",
    "print(filename)\n",
    "print(fileext)"
   ]
  },
  {
   "cell_type": "code",
   "execution_count": 17,
   "id": "1fdefef5",
   "metadata": {},
   "outputs": [
    {
     "name": "stdout",
     "output_type": "stream",
     "text": [
      "Red Black\n"
     ]
    }
   ],
   "source": [
    "## Write a Python program to display the first and last colors from the following list.\n",
    "color_list=[\"Red\",\"Green\",\"White\" ,\"Black\"]\n",
    "print(color_list[0],color_list[3])\n"
   ]
  },
  {
   "cell_type": "code",
   "execution_count": 21,
   "id": "d97d287d",
   "metadata": {},
   "outputs": [
    {
     "name": "stdout",
     "output_type": "stream",
     "text": [
      "exam will start from 11/12/2014\n"
     ]
    }
   ],
   "source": [
    "##Write a Python program to display the examination schedule. (extract the date from exam_st_date).\n",
    "\n",
    "exam_st_date = (11, 12, 2014)\n",
    "print(\"exam will start from %i/%i/%i\"%exam_st_date)"
   ]
  },
  {
   "cell_type": "code",
   "execution_count": 9,
   "id": "84784b3b",
   "metadata": {},
   "outputs": [
    {
     "name": "stdout",
     "output_type": "stream",
     "text": [
      "enter the number5\n",
      "615\n"
     ]
    }
   ],
   "source": [
    "##Write a Python program that accepts an integer (n) and computes the value of n+nn+nnn.\n",
    "a=int(input(\"enter the number\"))\n",
    "result1=(a*1)+((a*10)+a)+((a*100)+(a*10)+a)\n",
    "print(result1)"
   ]
  },
  {
   "cell_type": "code",
   "execution_count": 11,
   "id": "1ec5d9ac",
   "metadata": {},
   "outputs": [
    {
     "name": "stdout",
     "output_type": "stream",
     "text": [
      "enter the year: 2022\n",
      "enter the month: 10\n",
      "    October 2022\n",
      "Mo Tu We Th Fr Sa Su\n",
      "                1  2\n",
      " 3  4  5  6  7  8  9\n",
      "10 11 12 13 14 15 16\n",
      "17 18 19 20 21 22 23\n",
      "24 25 26 27 28 29 30\n",
      "31\n",
      "\n"
     ]
    }
   ],
   "source": [
    "#Write a Python program to print the calendar of a given month and year.\n",
    "#Note : Use 'calendar' module.\n",
    "import calendar\n",
    "y=int(input(\"enter the year: \"))\n",
    "m=int(input(\"enter the month: \"))\n",
    "print(calendar.month(y,m))"
   ]
  },
  {
   "cell_type": "code",
   "execution_count": 14,
   "id": "07683d23",
   "metadata": {},
   "outputs": [
    {
     "name": "stdout",
     "output_type": "stream",
     "text": [
      "enter the year:1995\n",
      "enter the month:10\n",
      "    October 1995\n",
      "Mo Tu We Th Fr Sa Su\n",
      "                   1\n",
      " 2  3  4  5  6  7  8\n",
      " 9 10 11 12 13 14 15\n",
      "16 17 18 19 20 21 22\n",
      "23 24 25 26 27 28 29\n",
      "30 31\n",
      "\n"
     ]
    }
   ],
   "source": [
    "import calendar\n",
    "y=int(input(\"enter the year:\"))\n",
    "m=int(input(\"enter the month:\"))\n",
    "print(calendar.month(y,m))"
   ]
  },
  {
   "cell_type": "code",
   "execution_count": 20,
   "id": "6ad2dfc8",
   "metadata": {},
   "outputs": [
    {
     "name": "stdout",
     "output_type": "stream",
     "text": [
      "no of days difference:  0\n"
     ]
    }
   ],
   "source": [
    "##Write a Python program to calculate number of days between two dates.\n",
    "from datetime import date\n",
    "date1=date(2022,10,2)\n",
    "date2=date(2022,9,10)\n",
    "difference=date1-date1\n",
    "print(\"no of days difference: \",difference.days)"
   ]
  },
  {
   "cell_type": "code",
   "execution_count": 24,
   "id": "e7d33910",
   "metadata": {},
   "outputs": [
    {
     "name": "stdout",
     "output_type": "stream",
     "text": [
      "enter radius:6\n",
      "904.3199999999999\n"
     ]
    }
   ],
   "source": [
    "#Write a Python program to get the volume of a sphere with radius 6.\n",
    "import math\n",
    "radius=int(input(\"enter radius:\"))\n",
    "volume=(4/3)*3.14*radius**3\n",
    "print(volume)"
   ]
  },
  {
   "cell_type": "code",
   "execution_count": 34,
   "id": "b435dc16",
   "metadata": {},
   "outputs": [
    {
     "name": "stdout",
     "output_type": "stream",
     "text": [
      "enter value of a10\n",
      "7\n"
     ]
    }
   ],
   "source": [
    "##Write a Python program to get the difference between a given number and 17, if the number is greater than 17 return double the absolute difference.\n",
    "a=int(input(\"enter value of a\"))\n",
    "if a<=17:\n",
    "    x=17-a\n",
    "    print(x)\n",
    "else:\n",
    "    y=(a-17)*2\n",
    "    print(y)"
   ]
  },
  {
   "cell_type": "code",
   "execution_count": null,
   "id": "21402b25",
   "metadata": {},
   "outputs": [],
   "source": [
    "##Write a Python program to test whether a number is within 100 of 1000 or 2000.\n"
   ]
  },
  {
   "cell_type": "code",
   "execution_count": 45,
   "id": "eae42ebf",
   "metadata": {},
   "outputs": [
    {
     "name": "stdout",
     "output_type": "stream",
     "text": [
      "enter the number1111\n",
      "no\n"
     ]
    }
   ],
   "source": [
    "a=int(input(\"enter the number\"))\n",
    "x=1000-a\n",
    "y=a-1000\n",
    "if x<100 and y<100:\n",
    "    print(\"yes\")\n",
    "else:\n",
    "    print(\"no\")"
   ]
  },
  {
   "cell_type": "code",
   "execution_count": 47,
   "id": "af0b96dc",
   "metadata": {},
   "outputs": [
    {
     "name": "stdout",
     "output_type": "stream",
     "text": [
      "enter value of a2\n",
      "enter value of b2\n",
      "enter value of c2\n",
      "18\n"
     ]
    }
   ],
   "source": [
    "##Write a Python program to calculate the sum of three given numbers, if the values are equal then return three times of their sum.\n",
    "a=int(input(\"enter value of a\"))\n",
    "b=int(input(\"enter value of b\"))\n",
    "c=int(input(\"enter value of c\"))\n",
    "if a!=b!=c:\n",
    "    print(a+b+c)\n",
    "else:\n",
    "    print(3*(a+b+c))"
   ]
  },
  {
   "cell_type": "code",
   "execution_count": 44,
   "id": "6a2a2f3b",
   "metadata": {},
   "outputs": [
    {
     "name": "stdout",
     "output_type": "stream",
     "text": [
      "he fine?\n",
      "Ishe fine?\n"
     ]
    }
   ],
   "source": [
    "##Write a Python program to get a new string from a given string where \"Is\" has been added to the front. If the given string already begins with \"Is\" then return the string unchanged.\n",
    "ls=\"he fine?\"\n",
    "print(ls)\n",
    "if ls[0:2]=='is':\n",
    "    print(ls)\n",
    "    \n",
    "else:\n",
    "    print(\"Is\" +ls)"
   ]
  },
  {
   "cell_type": "code",
   "execution_count": 78,
   "id": "f9d2fd90",
   "metadata": {},
   "outputs": [],
   "source": [
    "##Write a Python program to get a string which is n (non-negative integer) copies of a given string. \n",
    "def copy(str,n):\n",
    "    result=\"\"\n",
    "    for i in range(n):\n",
    "        result=result+str\n",
    "        print(\"result:\\t\",result)"
   ]
  },
  {
   "cell_type": "code",
   "execution_count": 80,
   "id": "714631f0",
   "metadata": {},
   "outputs": [
    {
     "name": "stdout",
     "output_type": "stream",
     "text": [
      "result:\t ankit\n",
      "result:\t ankitankit\n",
      "result:\t ankitankitankit\n",
      "result:\t ankitankitankitankit\n",
      "result:\t ankitankitankitankitankit\n"
     ]
    }
   ],
   "source": [
    "copy(\"ankit\",5)"
   ]
  },
  {
   "cell_type": "code",
   "execution_count": 86,
   "id": "478df263",
   "metadata": {},
   "outputs": [
    {
     "name": "stdout",
     "output_type": "stream",
     "text": [
      "Enter the number user67\n",
      "<class 'int'>\n",
      "Number is odd\n"
     ]
    }
   ],
   "source": [
    "## Write a Python program to find whether a given number (accept from the user) is even or odd, print out an appropriate message to the user.\n",
    "a=int(input(\"Enter the number user\"))\n",
    "print(type(a))\n",
    "if a%2==0:\n",
    "    print(\"number is even\")\n",
    "else:\n",
    "    print(\"Number is odd\")"
   ]
  },
  {
   "cell_type": "code",
   "execution_count": 87,
   "id": "2ec92aba",
   "metadata": {},
   "outputs": [
    {
     "data": {
      "text/plain": [
       "3"
      ]
     },
     "execution_count": 87,
     "metadata": {},
     "output_type": "execute_result"
    }
   ],
   "source": [
    "ls=[1,2,3,4,5,4,7,4]\n",
    "ls.count(4)"
   ]
  },
  {
   "cell_type": "code",
   "execution_count": 114,
   "id": "f932117c",
   "metadata": {},
   "outputs": [],
   "source": [
    "def string(st,n):\n",
    "    res= \"\"\n",
    "    res1=\"\"\n",
    "    if len(st)<2:\n",
    "        for i in range(n):\n",
    "            res=res+st\n",
    "            print(res)    \n",
    "    else:\n",
    "            for i in range(n):\n",
    "                res1=res1+st[0:2]\n",
    "                print(res1)       "
   ]
  },
  {
   "cell_type": "code",
   "execution_count": 127,
   "id": "3f19f81d",
   "metadata": {},
   "outputs": [
    {
     "name": "stdout",
     "output_type": "stream",
     "text": [
      "My\n",
      "MyMy\n",
      "MyMyMy\n",
      "MyMyMyMy\n"
     ]
    }
   ],
   "source": [
    "string(\"My\",4)"
   ]
  },
  {
   "cell_type": "code",
   "execution_count": 13,
   "id": "07df04b7",
   "metadata": {},
   "outputs": [
    {
     "name": "stdout",
     "output_type": "stream",
     "text": [
      "consonant\n"
     ]
    }
   ],
   "source": [
    "##Write a Python program to test whether a passed letter is a vowel or not.\n",
    "def vowel(char):\n",
    "    all_vowel=\"aeiou\"\n",
    "    if char in all_vowel:\n",
    "        print(\"vowel\")\n",
    "    else:\n",
    "        print(\"consonant\")\n",
    "vowel(\"p\")"
   ]
  },
  {
   "cell_type": "code",
   "execution_count": 28,
   "id": "3f475f26",
   "metadata": {},
   "outputs": [
    {
     "name": "stdout",
     "output_type": "stream",
     "text": [
      "<class 'str'>\n",
      "true\n"
     ]
    }
   ],
   "source": [
    "def group(list):\n",
    "    numb=\"4\"\n",
    "    print(type(numb))\n",
    "    if numb in list:\n",
    "        print(\"true\")\n",
    "    else:\n",
    "        print(\"false\")\n",
    "group([\"2\",\"5\",\"7\",\"4\"])"
   ]
  },
  {
   "cell_type": "code",
   "execution_count": 34,
   "id": "cee92ce1",
   "metadata": {},
   "outputs": [
    {
     "name": "stdout",
     "output_type": "stream",
     "text": [
      "<class 'str'>\n"
     ]
    },
    {
     "data": {
      "text/plain": [
       "'true'"
      ]
     },
     "execution_count": 34,
     "metadata": {},
     "output_type": "execute_result"
    }
   ],
   "source": [
    "def group(list):\n",
    "    numb=\"4\"\n",
    "    print(type(numb))\n",
    "    numb in list\n",
    "    return (\"true\")\n",
    "group([\"2\",\"5\",\"7\",\"4\"])"
   ]
  },
  {
   "cell_type": "code",
   "execution_count": 39,
   "id": "35d26403",
   "metadata": {},
   "outputs": [
    {
     "data": {
      "text/plain": [
       "(array([2., 1., 2., 1., 1., 1., 1., 1., 0., 1., 1., 0., 2., 1., 0., 0., 1.,\n",
       "        1., 0., 1.]),\n",
       " array([ 1. ,  2.4,  3.8,  5.2,  6.6,  8. ,  9.4, 10.8, 12.2, 13.6, 15. ,\n",
       "        16.4, 17.8, 19.2, 20.6, 22. , 23.4, 24.8, 26.2, 27.6, 29. ]),\n",
       " <BarContainer object of 20 artists>)"
      ]
     },
     "execution_count": 39,
     "metadata": {},
     "output_type": "execute_result"
    },
    {
     "data": {
      "image/png": "[encoded data removed]",
      "text/plain": [
       "<Figure size 432x288 with 1 Axes>"
      ]
     },
     "metadata": {
      "needs_background": "light"
     },
     "output_type": "display_data"
    }
   ],
   "source": [
    "import matplotlib.pyplot as plt\n",
    "lst=[1,2,3,4,5,6,7,9,10,12,14,16,20,18,19,29,26,24]\n",
    "plt.hist(lst,bins=20)"
   ]
  },
  {
   "cell_type": "code",
   "execution_count": 41,
   "id": "3a2134fe",
   "metadata": {},
   "outputs": [
    {
     "data": {
      "text/plain": [
       "(array([2., 1., 2., 1., 1., 1., 1., 1., 0., 1., 1., 0., 2., 1., 0., 0., 1.,\n",
       "        1., 0., 1.]),\n",
       " array([ 1. ,  2.4,  3.8,  5.2,  6.6,  8. ,  9.4, 10.8, 12.2, 13.6, 15. ,\n",
       "        16.4, 17.8, 19.2, 20.6, 22. , 23.4, 24.8, 26.2, 27.6, 29. ]),\n",
       " <BarContainer object of 20 artists>)"
      ]
     },
     "execution_count": 41,
     "metadata": {},
     "output_type": "execute_result"
    },
    {
     "data": {
      "image/png": "[encoded data removed]",
      "text/plain": [
       "<Figure size 432x288 with 1 Axes>"
      ]
     },
     "metadata": {
      "needs_background": "light"
     },
     "output_type": "display_data"
    }
   ],
   "source": [
    "plt.hist(lst,bins=20,orientation=\"horizontal\")"
   ]
  },
  {
   "cell_type": "code",
   "execution_count": 54,
   "id": "3ec21286",
   "metadata": {},
   "outputs": [
    {
     "data": {
      "text/plain": [
       "'12345'"
      ]
     },
     "execution_count": 54,
     "metadata": {},
     "output_type": "execute_result"
    }
   ],
   "source": [
    "#Write a Python program to concatenate all elements in a list into a string and return it.\n",
    "import numpy as np\n",
    "def concatenate(list):\n",
    "    result=\"\"\n",
    "    for i in list:\n",
    "        result=result+str(i)\n",
    "    return result\n",
    "concatenate([1,2,3,4,5])"
   ]
  },
  {
   "cell_type": "code",
   "execution_count": 121,
   "id": "59823020",
   "metadata": {},
   "outputs": [
    {
     "name": "stdout",
     "output_type": "stream",
     "text": [
      "4\n",
      "16\n",
      "18\n"
     ]
    }
   ],
   "source": [
    "lst=[4,16,7,18,9,10,13,15,14]\n",
    "for i in lst:\n",
    "    if i==9:\n",
    "        break\n",
    "    elif i%2==0:\n",
    "            print(i)"
   ]
  },
  {
   "cell_type": "code",
   "execution_count": 122,
   "id": "a2900949",
   "metadata": {},
   "outputs": [
    {
     "name": "stdout",
     "output_type": "stream",
     "text": [
      "386\n",
      "462\n",
      "418\n",
      "344\n",
      "236\n",
      "566\n",
      "978\n",
      "328\n",
      "162\n",
      "758\n",
      "918\n",
      "237\n"
     ]
    }
   ],
   "source": [
    "##Write a Python program to print all even numbers from a given numbers list in the same order and stop the printing\n",
    "#if any numbers that come after 237 in the sequence.\n",
    "numbers = [    \n",
    "    386, 462, 47, 418, 907, 344, 236, 375, 823, 566, 597, 978, 328, 615, 953, 345, \n",
    "    399, 162, 758, 219, 918, 237, 412, 566, 826, 248, 866, 950, 626, 949, 687, 217, \n",
    "    815, 67, 104, 58, 512, 24, 892, 894, 767, 553, 81, 379, 843, 831, 445, 742, 717, \n",
    "    958,743, 527\n",
    "    ]\n",
    "for i in numbers:\n",
    "    if i==237:\n",
    "        print(i)\n",
    "        break\n",
    "    elif i%2==0:\n",
    "        print(i)"
   ]
  },
  {
   "cell_type": "code",
   "execution_count": 123,
   "id": "c5e6790d",
   "metadata": {},
   "outputs": [
    {
     "name": "stdout",
     "output_type": "stream",
     "text": [
      "{'Black', 'White'}\n"
     ]
    }
   ],
   "source": [
    "##Write a Python program to print out a set containing all the colors from color_list_1 which are not present in color_list_2.\n",
    "color_list_1 = set([\"White\", \"Black\", \"Red\"])\n",
    "color_list_2 = set([\"Red\", \"Green\"])\n",
    "diff=color_list_1-color_list_2\n",
    "print(diff)"
   ]
  },
  {
   "cell_type": "code",
   "execution_count": 135,
   "id": "dcb37dc2",
   "metadata": {},
   "outputs": [],
   "source": [
    "##Write a Python program that will accept the base and height of a triangle and compute the area.\n",
    "def triangle_area(b,h):\n",
    "    area=(1/2)*b*h\n",
    "    print(area)"
   ]
  },
  {
   "cell_type": "code",
   "execution_count": 136,
   "id": "27f9aa49",
   "metadata": {},
   "outputs": [
    {
     "name": "stdout",
     "output_type": "stream",
     "text": [
      "4.0\n"
     ]
    }
   ],
   "source": [
    "triangle_area(4,2)"
   ]
  },
  {
   "cell_type": "code",
   "execution_count": 38,
   "id": "19467ff0",
   "metadata": {},
   "outputs": [],
   "source": [
    "##Write a Python program to compute the greatest common divisor (GCD) of two positive integers.\n",
    "def gcd(x,y):\n",
    "    gcd=1\n",
    "    if x%y==0:\n",
    "        return y\n",
    "    for i in range(int(y/2),0,-1):\n",
    "        if x%i==0 and y%i==0:\n",
    "            gcd=i\n",
    "            return(gcd)\n",
    "            break                  "
   ]
  },
  {
   "cell_type": "code",
   "execution_count": 39,
   "id": "cb20fa83",
   "metadata": {},
   "outputs": [
    {
     "data": {
      "text/plain": [
       "3"
      ]
     },
     "execution_count": 39,
     "metadata": {},
     "output_type": "execute_result"
    }
   ],
   "source": [
    "gcd(12,3)"
   ]
  },
  {
   "cell_type": "code",
   "execution_count": 7,
   "id": "823b0a93",
   "metadata": {},
   "outputs": [
    {
     "name": "stdout",
     "output_type": "stream",
     "text": [
      "204\n",
      "14\n"
     ]
    }
   ],
   "source": [
    "##Write a Python program to get the least common multiple (LCM) of two positive integers.\n",
    "def lcm(x, y):\n",
    "  if x > y:\n",
    "      z = x\n",
    "  else:\n",
    "      z = y\n",
    "  while(True):\n",
    "      if((z % x == 0) and (z % y == 0)):\n",
    "          lcm = z\n",
    "          break\n",
    "      z += 1\n",
    "  return lcm\n",
    "print(lcm(12, 17))\n",
    "print(lcm(14, 7))"
   ]
  },
  {
   "cell_type": "code",
   "execution_count": 17,
   "id": "e6240cd0",
   "metadata": {},
   "outputs": [
    {
     "name": "stdout",
     "output_type": "stream",
     "text": [
      "enter value of a1\n",
      "enter value of b1\n",
      "enter value of c1\n",
      "0\n"
     ]
    }
   ],
   "source": [
    "## Write a Python program to sum of three given integers. However, if two values are equal sum will be zero.\n",
    "a=int(input(\"enter value of a\"))\n",
    "b=int(input(\"enter value of b\"))\n",
    "c=int(input(\"enter value of c\"))\n",
    "if a!=b and b!=c and a!=c:\n",
    "    sum=a+b+c\n",
    "    print(sum)\n",
    "elif a==b or b==c or a==c:\n",
    "    sum= 0\n",
    "    print(sum)\n",
    "    "
   ]
  },
  {
   "cell_type": "code",
   "execution_count": 23,
   "id": "f7b78871",
   "metadata": {},
   "outputs": [
    {
     "name": "stdout",
     "output_type": "stream",
     "text": [
      "enter value of a:7\n",
      "enter value of b:8\n",
      "enter value of c:4\n",
      "20\n"
     ]
    }
   ],
   "source": [
    "##Write a Python program to sum of two given integers. However, if the sum is between 15 to 20 it will return 20. \n",
    "a=int(input(\"enter value of a:\"))\n",
    "b=int(input(\"enter value of b:\"))\n",
    "c=int(input(\"enter value of c:\"))\n",
    "sum =a+b+c\n",
    "if 15<=sum<=20:\n",
    "    sum=20\n",
    "    print(sum)\n",
    "else:\n",
    "    print(sum)\n",
    "    "
   ]
  },
  {
   "cell_type": "code",
   "execution_count": 38,
   "id": "87917deb",
   "metadata": {},
   "outputs": [],
   "source": [
    "##Write a Python program that will return true if the two given integer values are equal or their sum or difference is 5.\n",
    "def sum_two(a,b):\n",
    "    sum1= a+b\n",
    "    if a>b:\n",
    "        diff=a-b\n",
    "    else:\n",
    "        diff=b-a\n",
    "    if a==b or sum1==5 or diff==5:\n",
    "        print(\"True\")\n",
    "    else:\n",
    "        print(sum1)\n",
    "        print(diff)\n"
   ]
  },
  {
   "cell_type": "code",
   "execution_count": 43,
   "id": "99ef0952",
   "metadata": {},
   "outputs": [
    {
     "name": "stdout",
     "output_type": "stream",
     "text": [
      "38\n",
      "18\n"
     ]
    }
   ],
   "source": [
    "sum_two(10,28)"
   ]
  },
  {
   "cell_type": "code",
   "execution_count": 47,
   "id": "c7ef8f17",
   "metadata": {},
   "outputs": [
    {
     "name": "stdout",
     "output_type": "stream",
     "text": [
      "not integer\n"
     ]
    }
   ],
   "source": [
    "##Write a Python program to add two objects if both objects are an integer type.\n",
    "def objt(a,b):\n",
    "    x=type(a)\n",
    "    y=type(b)\n",
    "    sum1=a+b\n",
    "    if x==int and y==int:\n",
    "        print(sum1)\n",
    "    else:\n",
    "        print(\"not integer\")\n",
    "objt(\"a\",\"b\")\n",
    "   "
   ]
  },
  {
   "cell_type": "code",
   "execution_count": 48,
   "id": "6c947adb",
   "metadata": {},
   "outputs": [
    {
     "name": "stdout",
     "output_type": "stream",
     "text": [
      "12\n"
     ]
    }
   ],
   "source": [
    "objt(5,7)"
   ]
  },
  {
   "cell_type": "code",
   "execution_count": 6,
   "id": "9c9c2579",
   "metadata": {},
   "outputs": [
    {
     "name": "stdout",
     "output_type": "stream",
     "text": [
      "Name:Ankit\n",
      " Age: 25\n",
      " Address: V.P.O Mangalpur district: Jind (Haryana)\n"
     ]
    }
   ],
   "source": [
    "##Write a Python program to display your details like name, age, address in three different lines.\n",
    "print(\"Name:Ankit\\n\",\"Age: 25\\n\",\"Address: V.P.O Mangalpur district: Jind (Haryana)\")"
   ]
  },
  {
   "cell_type": "code",
   "execution_count": 8,
   "id": "fa76d0f4",
   "metadata": {},
   "outputs": [
    {
     "name": "stdout",
     "output_type": "stream",
     "text": [
      "49\n"
     ]
    }
   ],
   "source": [
    "## Write a Python program to solve (x + y) * (x + y).\n",
    "def sum(x,y):\n",
    "    sum=x+y\n",
    "    print(sum*sum)\n",
    "sum(4,3)"
   ]
  },
  {
   "cell_type": "code",
   "execution_count": 12,
   "id": "ae45b4f4",
   "metadata": {},
   "outputs": [
    {
     "name": "stdout",
     "output_type": "stream",
     "text": [
      "12450.0\n"
     ]
    }
   ],
   "source": [
    "##Write a Python program to compute the future value of a specified principal amount, rate of interest, and a number of years\n",
    "##Test Data : amt = 10000, int = 3.5, years = 7\n",
    "def simple_interest(principal,rate,time):\n",
    "    SI= (principal*rate*time)/100\n",
    "    Amount=principal+SI\n",
    "    print(Amount)\n",
    "simple_interest(10000,3.5,7)"
   ]
  },
  {
   "cell_type": "code",
   "execution_count": 28,
   "id": "93f9bb2a",
   "metadata": {},
   "outputs": [
    {
     "ename": "SyntaxError",
     "evalue": "invalid syntax (1524748074.py, line 3)",
     "output_type": "error",
     "traceback": [
      "\u001b[1;36m  Input \u001b[1;32mIn [28]\u001b[1;36m\u001b[0m\n\u001b[1;33m    amount=principal+CI\u001b[0m\n\u001b[1;37m    ^\u001b[0m\n\u001b[1;31mSyntaxError\u001b[0m\u001b[1;31m:\u001b[0m invalid syntax\n"
     ]
    }
   ],
   "source": [
    "def compound_interest(principal,rate,time):\n",
    "    CI=(principal*((1+(rate*0.01))**time)\n",
    "         amount=principal+CI\n",
    "         print(amount)\n",
    "         compound_interest(10000,3.5,7)"
   ]
  },
  {
   "cell_type": "code",
   "execution_count": 34,
   "id": "d3c88780",
   "metadata": {},
   "outputs": [
    {
     "name": "stdout",
     "output_type": "stream",
     "text": [
      "True\n",
      "False\n"
     ]
    }
   ],
   "source": [
    "## Write a Python program to check whether a file exists.\n",
    "import os.path\n",
    "print(os.path.exists(\"C:/Users/Ankit Sharma/Desktop/python/Family1.csv\"))\n",
    "print(os.path.exists(\"C:/Users/Ankit Sharma/Desktop/python/Family1.pdf\"))"
   ]
  },
  {
   "cell_type": "code",
   "execution_count": 40,
   "id": "fb5246ed",
   "metadata": {},
   "outputs": [
    {
     "name": "stdout",
     "output_type": "stream",
     "text": [
      "32\n"
     ]
    }
   ],
   "source": [
    "import struct\n",
    "print(struct.calcsize(\"P\")*4)"
   ]
  },
  {
   "cell_type": "code",
   "execution_count": 46,
   "id": "5c36a7aa",
   "metadata": {},
   "outputs": [
    {
     "name": "stdout",
     "output_type": "stream",
     "text": [
      "64\n"
     ]
    }
   ],
   "source": [
    "import struct\n",
    "print(struct.calcsize(\"P\")*8)"
   ]
  },
  {
   "cell_type": "code",
   "execution_count": 45,
   "id": "958ba2b8",
   "metadata": {},
   "outputs": [
    {
     "name": "stdout",
     "output_type": "stream",
     "text": [
      "64bit\n"
     ]
    }
   ],
   "source": [
    "import platform\n",
    "print(platform.architecture()[0])"
   ]
  },
  {
   "cell_type": "code",
   "execution_count": 56,
   "id": "ca43dc42",
   "metadata": {},
   "outputs": [
    {
     "name": "stdout",
     "output_type": "stream",
     "text": [
      "Name of operating system is: nt\n",
      "Name of OS system is: Windows\n",
      "Name of operating system version is: 8.1\n",
      "AMD64\n"
     ]
    }
   ],
   "source": [
    "##Write a Python program to get OS name, platform and release information.\n",
    "##os.name: The name of the operating system dependent module imported. The following names have currently been registered: 'posix', 'nt', 'java'.\n",
    "#platform.system(): Return the name of the OS system is running on.\n",
    "#platform.release(): Return the version of the operating system.\n",
    "import os,platform\n",
    "print(\"Name of operating system is:\",os.name)\n",
    "print(\"Name of OS system is:\",platform.system())\n",
    "print(\"Name of operating system version is:\",platform.release())\n",
    "print(platform.machine())"
   ]
  },
  {
   "cell_type": "code",
   "execution_count": 59,
   "id": "e09b7b8e",
   "metadata": {},
   "outputs": [
    {
     "name": "stdout",
     "output_type": "stream",
     "text": [
      "['C:\\\\Users\\\\Ankit Sharma\\\\New folder', 'C:\\\\Users\\\\Ankit Sharma\\\\New folder\\\\lib\\\\site-packages']\n"
     ]
    }
   ],
   "source": [
    "##Write a Python program to locate Python site-packages.\n",
    "import site\n",
    "print(site.getsitepackages())"
   ]
  },
  {
   "cell_type": "code",
   "execution_count": 63,
   "id": "69b06ec3",
   "metadata": {},
   "outputs": [
    {
     "name": "stdout",
     "output_type": "stream",
     "text": [
      "Path of current file is: C:\\Users\\Ankit Sharma\\Desktop\\python\\Haryana police morning shift.pdf\n"
     ]
    }
   ],
   "source": [
    "##Write \n",
    "import os\n",
    "print(\"Path of current file is:\",os.path.realpath(\"Haryana police morning shift.pdf\"))"
   ]
  },
  {
   "cell_type": "code",
   "execution_count": 66,
   "id": "6b4d1843",
   "metadata": {},
   "outputs": [
    {
     "data": {
      "text/plain": [
       "3"
      ]
     },
     "execution_count": 66,
     "metadata": {},
     "output_type": "execute_result"
    }
   ],
   "source": [
    "##Write a Python program to count the number occurrence of a specific character in a string.\n",
    "string=\"My name is ankittt\"\n",
    "string.count(\"t\")"
   ]
  },
  {
   "cell_type": "code",
   "execution_count": 36,
   "id": "a8212e32",
   "metadata": {},
   "outputs": [
    {
     "name": "stdout",
     "output_type": "stream",
     "text": [
      "True\n"
     ]
    }
   ],
   "source": [
    "##Write a Python program find a list of integers with exactly two occurrences of nineteen and at least three occurrences of five.\n",
    "def test(lst):\n",
    "    if (lst.count(19))==2 and (lst.count(5))>=3:\n",
    "            print(\"True\")\n",
    "    else:\n",
    "        print(\"False\")\n",
    "test([19,19,5,5,5,3,6,3])"
   ]
  },
  {
   "cell_type": "code",
   "execution_count": 55,
   "id": "a2d5df4b",
   "metadata": {},
   "outputs": [
    {
     "data": {
      "text/plain": [
       "True"
      ]
     },
     "execution_count": 55,
     "metadata": {},
     "output_type": "execute_result"
    }
   ],
   "source": [
    "##Write a Python program that accept a list of integers and check the length and the fifth element. Return true if the length of the list is 8 and fifth element occurs thrice in the said list.\n",
    "def test(lst):\n",
    "    if len(lst)==8 and lst.count(lst[4])==3:\n",
    "        return True\n",
    "    else:\n",
    "        return False\n",
    "test([1,5,3,4,5,6,5,7])"
   ]
  },
  {
   "cell_type": "code",
   "execution_count": 47,
   "id": "702cf01f",
   "metadata": {},
   "outputs": [
    {
     "data": {
      "text/plain": [
       "4"
      ]
     },
     "execution_count": 47,
     "metadata": {},
     "output_type": "execute_result"
    }
   ],
   "source": [
    "lst=[1,2,3,4,5,5,5,5]\n",
    "lst.count(lst[4])\n"
   ]
  },
  {
   "cell_type": "code",
   "execution_count": 59,
   "id": "d4f133f8",
   "metadata": {},
   "outputs": [
    {
     "name": "stdout",
     "output_type": "stream",
     "text": [
      "True\n"
     ]
    }
   ],
   "source": [
    "##Write a Python program that accept an integer test whether an integer greater than 4^4 and which is 4 mod 34.\n",
    "def num(x):\n",
    "    if x>4**4 and x%34==4:\n",
    "        print(\"True\")\n",
    "    else:\n",
    "        print(\"False\")\n",
    "num(276)"
   ]
  },
  {
   "cell_type": "code",
   "execution_count": 77,
   "id": "6f23c9a2",
   "metadata": {},
   "outputs": [
    {
     "name": "stdout",
     "output_type": "stream",
     "text": [
      "[10, 12, 14, 16, 18, 20, 22, 24, 26, 28]\n"
     ]
    }
   ],
   "source": [
    "##We are making n stone piles! The first pile has n stones. If n is even, then all piles have an even number of stones. If n is odd, all piles have an odd number of stones. Each pile must more stones than the previous pile but as few as possible. Write a Python program to find the number of stones in each pile.\n",
    "def num(x):\n",
    "    ls=[]\n",
    "    for i in range(x,200,2):\n",
    "        ls.append(i)\n",
    "        if len(ls)==x:\n",
    "            print(ls)\n",
    "            break\n",
    "            \n",
    "num(10)"
   ]
  },
  {
   "cell_type": "code",
   "execution_count": null,
   "id": "4e53db96",
   "metadata": {},
   "outputs": [],
   "source": []
  },
  {
   "cell_type": "code",
   "execution_count": null,
   "id": "54cc7d75",
   "metadata": {},
   "outputs": [],
   "source": []
  }
 ],
 "metadata": {
  "kernelspec": {
   "display_name": "Python 3 (ipykernel)",
   "language": "python",
   "name": "python3"
  },
  "language_info": {
   "codemirror_mode": {
    "name": "ipython",
    "version": 3
   },
   "file_extension": ".py",
   "mimetype": "text/x-python",
   "name": "python",
   "nbconvert_exporter": "python",
   "pygments_lexer": "ipython3",
   "version": "3.9.12"
  }
 },
 "nbformat": 4,
 "nbformat_minor": 5
}
