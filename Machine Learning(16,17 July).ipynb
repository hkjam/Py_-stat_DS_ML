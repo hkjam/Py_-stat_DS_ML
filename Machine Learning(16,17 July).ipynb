{
 "cells": [
  {
   "cell_type": "code",
   "execution_count": null,
   "id": "b9ac2d20",
   "metadata": {},
   "outputs": [],
   "source": [
    "## Machine Learning: It is used to slove business problem using data, programing and Visulization.\n",
    "##Python:Reading problem or data\n",
    "##Statistics: analysis the data\n",
    "##Ml/DL/AI: Solution\n",
    "##Visvalization: represent data in graphs and charts."
   ]
  },
  {
   "cell_type": "code",
   "execution_count": null,
   "id": "cb8ec2fc",
   "metadata": {},
   "outputs": [],
   "source": [
    "##Machine Learning: It is a part or subset of AI.\n",
    "##It will allow the system to learn and improve by itself based on experience the system had.\n",
    "##Eg: build a system that will classify the normal exmail and spam email based on labled data, linkscin mail, keywors, pictures\n",
    "##Eg: Using coustomers data for recommendation."
   ]
  },
  {
   "cell_type": "code",
   "execution_count": null,
   "id": "c9112d79",
   "metadata": {},
   "outputs": [],
   "source": [
    "##AI vs ML vs Deep Learning\n",
    "## AI:Developing a virtual or Artifical human brain, which resonds like a pseudo human brain, deals with larger problem domain.Can use programming,statistical model of ML and Dl.We can say that it combination of ML and DL.It also has specified algorithum. It's work domain is larger than ML and DL. Eg: text reconigation, face reconigation.\n",
    "##ML:Use statistical model to come with certain solutions to some business problem based on statistical model.Detecting pattrens in data and convert them into mathematical equations.\n",
    "##DL:Is neural networks.text, voice, face, finger prints etc cmoes in Deep learning."
   ]
  },
  {
   "cell_type": "code",
   "execution_count": null,
   "id": "7327014c",
   "metadata": {},
   "outputs": [],
   "source": [
    "##Supervised Learning: Learning by labels or tagged and then classified.\n",
    "##Unsupervised Learning:Learning by characterand then classified. Movie recommendation on Netflix based on user behaviour.\n",
    "##Reinforcement Learning: Learning by trial and error i.e. Learning from mistakes"
   ]
  },
  {
   "cell_type": "code",
   "execution_count": null,
   "id": "6a3c12a3",
   "metadata": {},
   "outputs": [],
   "source": [
    "##17 July"
   ]
  },
  {
   "cell_type": "code",
   "execution_count": null,
   "id": "871eb4c1",
   "metadata": {},
   "outputs": [],
   "source": [
    "##Types of Supervised learning.\n",
    "##1.Regression: Finding relation between two variables. Response(Dependent) and independent variables. output is the independent.\n",
    "##a.Linear Regression:Finding linear(straight line) relation between two variables. For continuous variables\n",
    "#Assumptions of Linear Reg:1. both variables have linear relation.\n",
    "                           ##2. All observations should be independent of each other\n",
    "                           ##3.Model has zero mean for error and is distributed normally.(Q-Q charts)\n",
    "##Types of Linear Reg:#1.Simple LR:Single Predictor. single Independent variable.equation: y=mx+c\n",
    "                     #2. Multiple LR: Multiple Predictor. Multiple Independent variables. y=m1x1+m2x2+m3x3+.....c\n",
    "    \n",
    "##b.Logistic: Finding S curve between two variables. For variables discrte variables.\n",
    "\n",
    "##2.Classification: Trying to group data into different groups.\n"
   ]
  }
 ],
 "metadata": {
  "kernelspec": {
   "display_name": "Python 3 (ipykernel)",
   "language": "python",
   "name": "python3"
  },
  "language_info": {
   "codemirror_mode": {
    "name": "ipython",
    "version": 3
   },
   "file_extension": ".py",
   "mimetype": "text/x-python",
   "name": "python",
   "nbconvert_exporter": "python",
   "pygments_lexer": "ipython3",
   "version": "3.9.12"
  }
 },
 "nbformat": 4,
 "nbformat_minor": 5
}
