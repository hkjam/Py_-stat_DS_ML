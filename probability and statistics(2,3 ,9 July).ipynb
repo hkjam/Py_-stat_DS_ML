{
 "cells": [
  {
   "cell_type": "code",
   "execution_count": null,
   "id": "bfbd9305",
   "metadata": {},
   "outputs": [],
   "source": [
    "#Data: collection of recorded facts.\n",
    "##Information: Processed data with some meaning.\n",
    "\n",
    "## Types of data: 1. Categorical data (Qualitative) 2. Numerical data(Quantitaative)\n",
    "#1.Categorical data: grouping people into different groups according to their charcter. example: name, sex.\n",
    "## Nominal: Categpry have no meaning, order or herarhcy. Can not tell one is greater or superior than the other.example:none's gender is superior.  \n",
    "##Ordinal: Categpry have a meaning, order or herarhcy. Can  say one is more superoir than other. example: Travelling class in a plane.\n",
    "\n",
    "#2.Numerical data: Data in number.\n",
    "## a.Discrete:Anything that can be counted .Countable data or whole number. Example: Number of persons\n",
    "# Interval: Difference between data or data is not in proportational. Have it have then it has no meaning\n",
    "# Ratio:    Proportationality of data have some meaning\n",
    "##b.Continuous: Any thing that can only be measure.i.e measurable data, example: Quantity of milk can only ne  measured.\n",
    "\n",
    "\n",
    "##Variable: Represents an unknown value.Value keeps on changing. \n",
    "## Types of Variable: #1.Categorical Variable:eg Name, titles\n",
    "                      #2.Confading Variable: Effect both Dependent and independent variables.\n",
    "                      #3.Control variable: variable which remains constant.example: pie \n",
    "                      #4.Dependent Variable: which depends on other variable\n",
    "                      #5.Independent Variable: which does not depends on other variable"
   ]
  },
  {
   "cell_type": "code",
   "execution_count": null,
   "id": "f2beeab0",
   "metadata": {},
   "outputs": [],
   "source": [
    "##Satistical Analysis:\n",
    "## 1.Descriptive Analysis: Describe something.True facts. it is as it is. It works on population i.e entire data\n",
    "## 2.Informal Analysis: Analysis based on predection i.e analysis something by making predection. It works on sample from the entire population"
   ]
  },
  {
   "cell_type": "code",
   "execution_count": null,
   "id": "14bea7b7",
   "metadata": {},
   "outputs": [],
   "source": [
    "##Descriptive Statistics:\n",
    "\n",
    "##1.Centre tendency: centre of data\n",
    "# Mean(average),Meadian(middle value) and more(lost repetative or frequent values)\n",
    "\n",
    "##2.Dispression: \n",
    "#Range : Max-Min\n",
    "#IQR: Inter qurtile range (division at quater) i.e.IQR=Q3-Q1. It is always 50%\n",
    "#Varience: Measurment of how far a number is from the mean.\n",
    "#Standard Deviation(sigma): Root of varience\n",
    "#Skewness: Measure of lack of symmetry i.e data is not distributed symmetrically. Right(positive) and left (negitive) are called asymmetry.\n",
    "#Kurtosis:Measure of Peaktness of data. 1.lapto lurtosis(positive kurtosis) 2.meso kurtosis(normal kurtosis), plat kurtosis(negitive kurtosis)\n",
    "\n",
    "##3.Position:\n",
    "#Percentile: Divide data in 100 parts where wach part is equal to 1 percentile\n",
    "#Quartile:................ 4 parts..............................1 Quartile\n",
    "#Standard Score(Z): How many stanard deviation a measurement is away from Mean. \n",
    "#Z score helps to scale different values for their comparision, having different scale. Example: age and salary"
   ]
  },
  {
   "cell_type": "code",
   "execution_count": null,
   "id": "156e9db1",
   "metadata": {},
   "outputs": [],
   "source": []
  },
  {
   "cell_type": "code",
   "execution_count": null,
   "id": "e09235ed",
   "metadata": {},
   "outputs": [],
   "source": [
    "##July 3"
   ]
  },
  {
   "cell_type": "code",
   "execution_count": null,
   "id": "e4ab1d49",
   "metadata": {},
   "outputs": [],
   "source": [
    "#Exploratory data Analysis:\n",
    "# insight of data\n",
    "#ex\n",
    "\n",
    "\n",
    "\n",
    "\n",
    "\n",
    "\n",
    "#Techniques of EDA:\n",
    "#1.Graphical: it is widely used\n",
    "#2.Qualitative: less used\n",
    "## Further techniques: \n",
    "#1.Univariate: Single variable. graphical and non graphical\n",
    "#2.Bivariate: Two variable. graphical and non graphical.\n",
    "\n",
    "##Univariate- Non graphical EDA:\n",
    "\n",
    "#Measure of centre(mean, median and mode)\n",
    "#Measure of despression(Range, IQR, Varience and SD )\n",
    "#Measure of shape(skewness, kurtosis)\n",
    "#Measure of position(Quartile, percentile)\n",
    "#test of outlayer data:\n",
    "\n",
    "#Outlayer data: Data that deviates highly from main s\n",
    "#Outlayer data is <or > than 1.5*IQR (graphical consisered outlayered)\n",
    "\n",
    "##Univariate- Graphical EDA: to understand about shape and distribution.\n",
    "#1. Bar graph\n",
    "#2. Histograms\n",
    "#3. Pie chart\n",
    "#4. Box plot\n",
    "#5. Scatter plot\n",
    "\n",
    "##Bivariate EDA: Combination of two univariate plot.\n",
    "  #Used to plot graphical relation between variables.\n",
    "\n",
    "##Bivariate- non-graphical EDA:\n",
    "# Coverience : Helps to identify the linear relation between two variables. positive relation(when x and y both increase, ex: age and salary) and negitive relation(one increse and decreses)\n",
    "# Corelation or Association: Also helps to identify the linear relation between two variables. EX: pearson, spearman and \n",
    "##Difference bet Coverience and Corelation\n",
    "#1. Coverience give relation as positive or negitive where as corelation give degree of relation(in terms of number)\n",
    "#2.Coverience give direction only but corelation give direction and strength.\n",
    "\n",
    "##Causation: Change in one variable is similar to another variable which has no relation with the variable.Eg: Supersitition \n",
    "\n",
    "##Bivariate-Graphical EDA:\n",
    "#1.Scatter Plot:(we can see outlayers,positive/ negitive relation and density of data or trends)\n",
    "#2.Heat Map: highlights the important and non important\n",
    "\n",
    "##Guide for graphic EDA\n",
    "#Variable                              GEDA\n",
    "    \n",
    " #Categorical                          Bar, Pie chart\n",
    " #Univariate+ Continuous               Line plot, Histogram\n",
    " #Bivariate+ Continuous                Scatter plot\n",
    "    \n",
    "#Objective                             GEDA\n",
    "    \n",
    " #Idea of distribution                 Histogram\n",
    " #Outlayers                            Box, Scatter, Histogram\n",
    " #Relation between variable            Scatter plot, corelation"
   ]
  },
  {
   "cell_type": "code",
   "execution_count": null,
   "id": "38c956ef",
   "metadata": {},
   "outputs": [],
   "source": [
    "##July 9"
   ]
  },
  {
   "cell_type": "code",
   "execution_count": null,
   "id": "25596cbf",
   "metadata": {},
   "outputs": [],
   "source": [
    "#Need of Probability\n",
    "#analysis future outcomes\n",
    "#"
   ]
  },
  {
   "cell_type": "code",
   "execution_count": null,
   "id": "7fc7eeac",
   "metadata": {},
   "outputs": [],
   "source": [
    "##Probability Experiment: A repeatable produce with well defined possible results.\n",
    "##Outcomes: Result of experiment is outcome.\n",
    "##Sample space: All outcomes are sample space.\n",
    "##Event: coming A head or a tail is an event.\n",
    "#Union: All outcomes of event A and B without any duplicate.\n",
    "##Intersection: Common \n",
    "##Mutually Exclusive event: Two event that can not happen together\n",
    "##Mutually Exclusive non event: Two event that can happen together\n",
    "##DEpendent Event:\n",
    "##Independent Event:"
   ]
  },
  {
   "cell_type": "code",
   "execution_count": null,
   "id": "a6504b44",
   "metadata": {},
   "outputs": [],
   "source": [
    "##Rule of Probability:\n",
    "##1. For any Event A, P(A)=1, P(A')=1-P(A)\n",
    "##2. if A belongs to B,then P(A)<=P(B)\n",
    "##3."
   ]
  },
  {
   "cell_type": "code",
   "execution_count": null,
   "id": "5961567b",
   "metadata": {},
   "outputs": [],
   "source": [
    "#Logical And: Union (Both)  \n",
    "#Logical OR: Intersection(any)"
   ]
  },
  {
   "cell_type": "code",
   "execution_count": null,
   "id": "6bc8cdb9",
   "metadata": {},
   "outputs": [],
   "source": []
  },
  {
   "cell_type": "code",
   "execution_count": null,
   "id": "3f7f6d05",
   "metadata": {},
   "outputs": [],
   "source": []
  }
 ],
 "metadata": {
  "kernelspec": {
   "display_name": "Python 3 (ipykernel)",
   "language": "python",
   "name": "python3"
  },
  "language_info": {
   "codemirror_mode": {
    "name": "ipython",
    "version": 3
   },
   "file_extension": ".py",
   "mimetype": "text/x-python",
   "name": "python",
   "nbconvert_exporter": "python",
   "pygments_lexer": "ipython3",
   "version": "3.9.12"
  }
 },
 "nbformat": 4,
 "nbformat_minor": 5
}
