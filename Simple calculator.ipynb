{
 "cells": [
  {
   "cell_type": "code",
   "execution_count": 2,
   "id": "de2dead6",
   "metadata": {},
   "outputs": [
    {
     "name": "stdout",
     "output_type": "stream",
     "text": [
      "Select the operation you wan to perform\n",
      "1- add, 2-sub, 3-multiple, 4- divide\n",
      "Enter the choice 1,2,3,42\n",
      "Enter the first number4\n",
      "Enter the second number3\n",
      "1.0\n",
      "Do you want to do another calculation?? Y/Ny\n",
      "Enter the choice 1,2,3,43\n",
      "Enter the first number5\n",
      "Enter the second number4\n",
      "20.0\n",
      "Do you want to do another calculation?? Y/Nt\n",
      "Enter the choice 1,2,3,44\n",
      "Enter the first number3\n",
      "Enter the second number4\n",
      "0.75\n",
      "Do you want to do another calculation?? Y/NN\n"
     ]
    }
   ],
   "source": [
    "## Simple calculator\n",
    "def add(x,y):\n",
    "    return x+y\n",
    "def subt(x,y):\n",
    "    return x-y\n",
    "def mult(x,y):\n",
    "    return x*y\n",
    "def div(x,y):\n",
    "    return x/y\n",
    "print('Select the operation you wan to perform')\n",
    "print('1- add, 2-sub, 3-multiple, 4- divide')\n",
    "while True:\n",
    "    inp= input(\"Enter the choice 1,2,3,4\")\n",
    "    if inp in ('1','2','3','4'):\n",
    "        n1=float(input(\"Enter the first number\"))\n",
    "        n2=float(input(\"Enter the second number\"))\n",
    "        \n",
    "        if inp=='1':\n",
    "            print(add(n1,n2))\n",
    "        elif inp=='2':\n",
    "            print(subt(n1,n2))\n",
    "        elif inp=='3':\n",
    "            print(mult(n1,n2))\n",
    "        elif inp=='4':\n",
    "            print(div(n1,n2))\n",
    "        \n",
    "        next= input(\"Do you want to do another calculation?? Y/N\")\n",
    "        if next=='N':\n",
    "            break\n",
    "    else:\n",
    "        print(\"not a valid input\")\n"
   ]
  }
 ],
 "metadata": {
  "kernelspec": {
   "display_name": "Python 3 (ipykernel)",
   "language": "python",
   "name": "python3"
  },
  "language_info": {
   "codemirror_mode": {
    "name": "ipython",
    "version": 3
   },
   "file_extension": ".py",
   "mimetype": "text/x-python",
   "name": "python",
   "nbconvert_exporter": "python",
   "pygments_lexer": "ipython3",
   "version": "3.9.12"
  }
 },
 "nbformat": 4,
 "nbformat_minor": 5
}
